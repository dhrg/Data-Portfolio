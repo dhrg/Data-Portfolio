{
 "cells": [
  {
   "cell_type": "markdown",
   "metadata": {},
   "source": [
    "# Foundation inference Bootstrap Permutation"
   ]
  },
  {
   "cell_type": "code",
   "execution_count": 1,
   "metadata": {},
   "outputs": [
    {
     "name": "stderr",
     "output_type": "stream",
     "text": [
      "/anaconda3/lib/python3.6/site-packages/statsmodels/compat/pandas.py:56: FutureWarning: The pandas.core.datetools module is deprecated and will be removed in a future version. Please use the pandas.tseries module instead.\n",
      "  from pandas.core import datetools\n"
     ]
    },
    {
     "data": {
      "text/plain": [
       "['.DS_Store',\n",
       " '2008_all_states.csv',\n",
       " '2008_swing_states.csv',\n",
       " 'aapl.csv',\n",
       " 'airquality.csv',\n",
       " 'albeck_gene_expression.mat',\n",
       " 'Alelager.csv',\n",
       " 'all_medalists.csv',\n",
       " 'all_pols.csv',\n",
       " 'anscombe.csv',\n",
       " 'austin_airport_departure_data_2015_july.csv',\n",
       " 'auto-mpg 2.csv',\n",
       " 'auto-mpg.csv',\n",
       " 'automobiles.csv',\n",
       " 'Bangladesh.csv',\n",
       " 'baseball.csv',\n",
       " 'Batters2005.csv',\n",
       " 'battledeath.xlsx',\n",
       " 'bee_sperm.csv',\n",
       " 'Beerwings.csv',\n",
       " 'belmont.csv',\n",
       " 'BookPrices.csv',\n",
       " 'boston_housing_train.csv',\n",
       " 'brics.csv',\n",
       " 'Bronze.csv',\n",
       " 'bronze_top5.csv',\n",
       " 'Bushmeat.csv',\n",
       " 'Bushmeat2.csv',\n",
       " 'Cameras.csv',\n",
       " 'cars.csv',\n",
       " 'census.csv',\n",
       " 'census.sqlite',\n",
       " 'Cereals.csv',\n",
       " 'Challenger.csv',\n",
       " 'Chinook.sqlite',\n",
       " 'clean_file.csv',\n",
       " 'clean_file.xls',\n",
       " 'co_cities.csv',\n",
       " 'corrExerciseA.csv',\n",
       " 'corrExerciseB.csv',\n",
       " 'county.csv',\n",
       " 'Cuckoos.csv',\n",
       " 'DEXUSEU.csv',\n",
       " 'digits.csv',\n",
       " 'disarea.dta',\n",
       " 'disc_big.csv',\n",
       " 'disc_new.csv',\n",
       " 'disc_small.csv',\n",
       " 'dob_job_application_filings_subset.csv',\n",
       " 'ebola.csv',\n",
       " 'effort.dat',\n",
       " 'email50.csv',\n",
       " 'employees.sqlite',\n",
       " 'evals.csv',\n",
       " 'exchange.csv',\n",
       " 'Fatalities.csv',\n",
       " 'feb-sales-Hardware.csv',\n",
       " 'feb-sales-Service.csv',\n",
       " 'feb-sales-Software.csv',\n",
       " 'female_literacy_fertility.csv',\n",
       " 'fifa.csv',\n",
       " 'finch_beaks_1975.csv',\n",
       " 'finch_beaks_2012.csv',\n",
       " 'FishMercury.csv',\n",
       " 'FlightDelays.csv',\n",
       " 'fortis_beak_depth_heredity.csv',\n",
       " 'frog_tongue.csv',\n",
       " 'g1800s.csv',\n",
       " 'g1800s2.csv',\n",
       " 'gapminder 2.csv',\n",
       " 'gapminder.csv',\n",
       " 'gapminder_tidy.csv',\n",
       " 'gdp_china.csv',\n",
       " 'gdp_usa.csv',\n",
       " 'Girls2004.csv',\n",
       " 'glucose.csv',\n",
       " 'Gold.csv',\n",
       " 'gold_top5.csv',\n",
       " 'GSS2002.csv',\n",
       " 'GSS2006.csv',\n",
       " 'IceCream.csv',\n",
       " 'Illiteracy.csv',\n",
       " 'iris 2.csv',\n",
       " 'iris.csv',\n",
       " 'life_expectancy_at_birth.csv',\n",
       " 'LIGO_data.hdf5',\n",
       " 'literacy_birth_rate.csv',\n",
       " 'Lottery.csv',\n",
       " 'manatees.csv',\n",
       " 'Maunaloa.csv',\n",
       " 'messy_stock_data.tsv',\n",
       " 'michelson_speed_of_light.csv',\n",
       " 'MLB.csv',\n",
       " 'mlb_nohitters.csv',\n",
       " 'MnGroundwater.csv',\n",
       " 'mnist_kaggle_some_rows.csv',\n",
       " 'moby_dick.txt',\n",
       " 'names1881.csv',\n",
       " 'names1981.csv',\n",
       " 'NCBirths2004.csv',\n",
       " 'NHANES.csv',\n",
       " 'NOAA_QCLCD_2011_hourly_13904.txt',\n",
       " 'nyc.csv',\n",
       " 'nyc_uber_2014.csv',\n",
       " 'oil_price.csv',\n",
       " 'ozone_nyc.csv',\n",
       " 'ozone_nyla.csv',\n",
       " 'pennsylvania2012_turnout.csv',\n",
       " 'percent-bachelors-degrees-women-usa.csv',\n",
       " 'person.csv',\n",
       " 'Phillies2009.csv',\n",
       " 'Pitchers2005.csv',\n",
       " 'pittsburgh2013.csv',\n",
       " 'process_data_sets.R',\n",
       " 'Quakes.csv',\n",
       " 'Reading.csv',\n",
       " 'sales-feb-2015.csv',\n",
       " 'sales-jan-2015.csv',\n",
       " 'sales-mar-2015.csv',\n",
       " 'sales.sas7bdat',\n",
       " 'sales.zip',\n",
       " 'Sat2008.csv',\n",
       " 'scandens_beak_depth_heredity.csv',\n",
       " 'seaslug.txt',\n",
       " 'Service.csv',\n",
       " 'sheffield_weather_station.csv',\n",
       " 'Silver.csv',\n",
       " 'silver_top5.csv',\n",
       " 'site.csv',\n",
       " 'Skating2010.csv',\n",
       " 'Skating2014.csv',\n",
       " 'sp500.csv',\n",
       " 'sprint.csv',\n",
       " 'Spruce.csv',\n",
       " 'Starcraft.csv',\n",
       " 'stocks.csv',\n",
       " 'Summer Olympic medalists 1896 to 2008 - ALL MEDALISTS.tsv',\n",
       " 'Summer Olympic medalists 1896 to 2008 - EDITIONS.tsv',\n",
       " 'Summer Olympic medalists 1896 to 2008 - IOC COUNTRY CODES.csv',\n",
       " 'Summer Olympic medallists ALL MEDALISTS.csv',\n",
       " 'survey.csv',\n",
       " 'tb.csv',\n",
       " 'tips 2.csv',\n",
       " 'tips.csv',\n",
       " 'titanic 2.csv',\n",
       " 'Titanic 3.csv',\n",
       " 'titanic.csv',\n",
       " 'titanic_corrupt.txt',\n",
       " 'Turbine.csv',\n",
       " 'TV 2.csv',\n",
       " 'TV.csv',\n",
       " 'tweets.csv',\n",
       " 'TXBirths2004.csv',\n",
       " 'uber1.csv',\n",
       " 'uber2.csv',\n",
       " 'uber3.csv',\n",
       " 'ucb_admit.csv',\n",
       " 'us_regions.csv',\n",
       " 'users.csv',\n",
       " 'Verizon 2.csv',\n",
       " 'Verizon.csv',\n",
       " 'visited.csv',\n",
       " 'Volleyball2009.csv',\n",
       " 'Walleye.csv',\n",
       " 'Watertable.csv',\n",
       " 'weather_data_austin_2010.csv',\n",
       " 'world_ind_pop_data 2.csv',\n",
       " 'world_ind_pop_data.csv',\n",
       " 'world_population.csv',\n",
       " 'XR_Monthly.xls']"
      ]
     },
     "execution_count": 1,
     "metadata": {},
     "output_type": "execute_result"
    }
   ],
   "source": [
    "import os\n",
    "import pandas as pd\n",
    "import numpy as np\n",
    "import matplotlib.pyplot as plt\n",
    "import seaborn as sns\n",
    "from plotnine import *\n",
    "from plotnine.data import *\n",
    "from sklearn.utils import shuffle\n",
    "from sklearn import datasets, linear_model\n",
    "from sklearn.metrics import mean_squared_error, r2_score\n",
    "import scipy.stats as stats\n",
    "%matplotlib inline\n",
    "sns.set() #Making seaborn the default styling \n",
    "data_path = '/Users/User/Desktop/Data/Datasets/Learning'\n",
    "#data_path = '/Users/User/Desktop/Data/DataCamp-master/Intro_to_data'\n",
    "os.chdir(data_path)\n",
    "os.listdir()"
   ]
  },
  {
   "cell_type": "code",
   "execution_count": 2,
   "metadata": {},
   "outputs": [
    {
     "data": {
      "text/html": [
       "<div>\n",
       "<style scoped>\n",
       "    .dataframe tbody tr th:only-of-type {\n",
       "        vertical-align: middle;\n",
       "    }\n",
       "\n",
       "    .dataframe tbody tr th {\n",
       "        vertical-align: top;\n",
       "    }\n",
       "\n",
       "    .dataframe thead th {\n",
       "        text-align: right;\n",
       "    }\n",
       "</style>\n",
       "<table border=\"1\" class=\"dataframe\">\n",
       "  <thead>\n",
       "    <tr style=\"text-align: right;\">\n",
       "      <th></th>\n",
       "      <th>ID</th>\n",
       "      <th>SurveyYr</th>\n",
       "      <th>Gender</th>\n",
       "      <th>Age</th>\n",
       "      <th>AgeDecade</th>\n",
       "      <th>AgeMonths</th>\n",
       "      <th>Race1</th>\n",
       "      <th>Race3</th>\n",
       "      <th>Education</th>\n",
       "      <th>MaritalStatus</th>\n",
       "      <th>...</th>\n",
       "      <th>RegularMarij</th>\n",
       "      <th>AgeRegMarij</th>\n",
       "      <th>HardDrugs</th>\n",
       "      <th>SexEver</th>\n",
       "      <th>SexAge</th>\n",
       "      <th>SexNumPartnLife</th>\n",
       "      <th>SexNumPartYear</th>\n",
       "      <th>SameSex</th>\n",
       "      <th>SexOrientation</th>\n",
       "      <th>PregnantNow</th>\n",
       "    </tr>\n",
       "  </thead>\n",
       "  <tbody>\n",
       "    <tr>\n",
       "      <th>1</th>\n",
       "      <td>51624</td>\n",
       "      <td>2009_10</td>\n",
       "      <td>male</td>\n",
       "      <td>34</td>\n",
       "      <td>30-39</td>\n",
       "      <td>409.0</td>\n",
       "      <td>White</td>\n",
       "      <td>NaN</td>\n",
       "      <td>High School</td>\n",
       "      <td>Married</td>\n",
       "      <td>...</td>\n",
       "      <td>No</td>\n",
       "      <td>NaN</td>\n",
       "      <td>Yes</td>\n",
       "      <td>Yes</td>\n",
       "      <td>16.0</td>\n",
       "      <td>8.0</td>\n",
       "      <td>1.0</td>\n",
       "      <td>No</td>\n",
       "      <td>Heterosexual</td>\n",
       "      <td>NaN</td>\n",
       "    </tr>\n",
       "    <tr>\n",
       "      <th>2</th>\n",
       "      <td>51624</td>\n",
       "      <td>2009_10</td>\n",
       "      <td>male</td>\n",
       "      <td>34</td>\n",
       "      <td>30-39</td>\n",
       "      <td>409.0</td>\n",
       "      <td>White</td>\n",
       "      <td>NaN</td>\n",
       "      <td>High School</td>\n",
       "      <td>Married</td>\n",
       "      <td>...</td>\n",
       "      <td>No</td>\n",
       "      <td>NaN</td>\n",
       "      <td>Yes</td>\n",
       "      <td>Yes</td>\n",
       "      <td>16.0</td>\n",
       "      <td>8.0</td>\n",
       "      <td>1.0</td>\n",
       "      <td>No</td>\n",
       "      <td>Heterosexual</td>\n",
       "      <td>NaN</td>\n",
       "    </tr>\n",
       "    <tr>\n",
       "      <th>3</th>\n",
       "      <td>51624</td>\n",
       "      <td>2009_10</td>\n",
       "      <td>male</td>\n",
       "      <td>34</td>\n",
       "      <td>30-39</td>\n",
       "      <td>409.0</td>\n",
       "      <td>White</td>\n",
       "      <td>NaN</td>\n",
       "      <td>High School</td>\n",
       "      <td>Married</td>\n",
       "      <td>...</td>\n",
       "      <td>No</td>\n",
       "      <td>NaN</td>\n",
       "      <td>Yes</td>\n",
       "      <td>Yes</td>\n",
       "      <td>16.0</td>\n",
       "      <td>8.0</td>\n",
       "      <td>1.0</td>\n",
       "      <td>No</td>\n",
       "      <td>Heterosexual</td>\n",
       "      <td>NaN</td>\n",
       "    </tr>\n",
       "    <tr>\n",
       "      <th>4</th>\n",
       "      <td>51625</td>\n",
       "      <td>2009_10</td>\n",
       "      <td>male</td>\n",
       "      <td>4</td>\n",
       "      <td>0-9</td>\n",
       "      <td>49.0</td>\n",
       "      <td>Other</td>\n",
       "      <td>NaN</td>\n",
       "      <td>NaN</td>\n",
       "      <td>NaN</td>\n",
       "      <td>...</td>\n",
       "      <td>NaN</td>\n",
       "      <td>NaN</td>\n",
       "      <td>NaN</td>\n",
       "      <td>NaN</td>\n",
       "      <td>NaN</td>\n",
       "      <td>NaN</td>\n",
       "      <td>NaN</td>\n",
       "      <td>NaN</td>\n",
       "      <td>NaN</td>\n",
       "      <td>NaN</td>\n",
       "    </tr>\n",
       "    <tr>\n",
       "      <th>5</th>\n",
       "      <td>51630</td>\n",
       "      <td>2009_10</td>\n",
       "      <td>female</td>\n",
       "      <td>49</td>\n",
       "      <td>40-49</td>\n",
       "      <td>596.0</td>\n",
       "      <td>White</td>\n",
       "      <td>NaN</td>\n",
       "      <td>Some College</td>\n",
       "      <td>LivePartner</td>\n",
       "      <td>...</td>\n",
       "      <td>No</td>\n",
       "      <td>NaN</td>\n",
       "      <td>Yes</td>\n",
       "      <td>Yes</td>\n",
       "      <td>12.0</td>\n",
       "      <td>10.0</td>\n",
       "      <td>1.0</td>\n",
       "      <td>Yes</td>\n",
       "      <td>Heterosexual</td>\n",
       "      <td>NaN</td>\n",
       "    </tr>\n",
       "  </tbody>\n",
       "</table>\n",
       "<p>5 rows × 76 columns</p>\n",
       "</div>"
      ],
      "text/plain": [
       "      ID SurveyYr  Gender  Age AgeDecade  AgeMonths  Race1 Race3  \\\n",
       "1  51624  2009_10    male   34     30-39      409.0  White   NaN   \n",
       "2  51624  2009_10    male   34     30-39      409.0  White   NaN   \n",
       "3  51624  2009_10    male   34     30-39      409.0  White   NaN   \n",
       "4  51625  2009_10    male    4       0-9       49.0  Other   NaN   \n",
       "5  51630  2009_10  female   49     40-49      596.0  White   NaN   \n",
       "\n",
       "      Education MaritalStatus     ...      RegularMarij  AgeRegMarij  \\\n",
       "1   High School       Married     ...                No          NaN   \n",
       "2   High School       Married     ...                No          NaN   \n",
       "3   High School       Married     ...                No          NaN   \n",
       "4           NaN           NaN     ...               NaN          NaN   \n",
       "5  Some College   LivePartner     ...                No          NaN   \n",
       "\n",
       "   HardDrugs  SexEver SexAge SexNumPartnLife  SexNumPartYear  SameSex  \\\n",
       "1        Yes      Yes   16.0             8.0             1.0       No   \n",
       "2        Yes      Yes   16.0             8.0             1.0       No   \n",
       "3        Yes      Yes   16.0             8.0             1.0       No   \n",
       "4        NaN      NaN    NaN             NaN             NaN      NaN   \n",
       "5        Yes      Yes   12.0            10.0             1.0      Yes   \n",
       "\n",
       "   SexOrientation  PregnantNow  \n",
       "1    Heterosexual          NaN  \n",
       "2    Heterosexual          NaN  \n",
       "3    Heterosexual          NaN  \n",
       "4             NaN          NaN  \n",
       "5    Heterosexual          NaN  \n",
       "\n",
       "[5 rows x 76 columns]"
      ]
     },
     "execution_count": 2,
     "metadata": {},
     "output_type": "execute_result"
    }
   ],
   "source": [
    "NHANES = pd.read_csv(\"NHANES.csv\", index_col = 0)\n",
    "NHANES.head()"
   ]
  },
  {
   "cell_type": "markdown",
   "metadata": {},
   "source": [
    "## Initial EDA using ggplot2"
   ]
  },
  {
   "cell_type": "code",
   "execution_count": 3,
   "metadata": {},
   "outputs": [
    {
     "data": {
      "image/png": "[encoded data removed]",
      "text/plain": [
       "<matplotlib.figure.Figure at 0x1c0e916048>"
      ]
     },
     "metadata": {},
     "output_type": "display_data"
    },
    {
     "data": {
      "text/plain": [
       "<ggplot: (-9223372029324324871)>"
      ]
     },
     "execution_count": 3,
     "metadata": {},
     "output_type": "execute_result"
    }
   ],
   "source": [
    "# Create bar plot for Home Ownership by Gender\n",
    "ggplot(NHANES, aes(x = \"Gender\", fill = \"HomeOwn\")) + geom_bar(position = \"fill\" ) + ylab(\"Relative frequencies\")"
   ]
  },
  {
   "cell_type": "code",
   "execution_count": 4,
   "metadata": {},
   "outputs": [
    {
     "name": "stderr",
     "output_type": "stream",
     "text": [
      "/anaconda3/lib/python3.6/site-packages/plotnine/layer.py:363: UserWarning: stat_density : Removed 2245 rows containing non-finite values.\n",
      "  data = self.stat.compute_layer(data, params, layout)\n"
     ]
    },
    {
     "data": {
      "image/png": "[encoded data removed]",
      "text/plain": [
       "<matplotlib.figure.Figure at 0x1c0d506da0>"
      ]
     },
     "metadata": {},
     "output_type": "display_data"
    },
    {
     "data": {
      "text/plain": [
       "<ggplot: (7531499142)>"
      ]
     },
     "execution_count": 4,
     "metadata": {},
     "output_type": "execute_result"
    }
   ],
   "source": [
    "# Density for SleepHrsNight colored by SleepTrouble, faceted by HealthGen\n",
    "ggplot(NHANES, aes(x = \"SleepHrsNight\", col = \"SleepTrouble\")) + geom_density(adjust = 2) + facet_wrap(\"~ HealthGen\")"
   ]
  },
  {
   "cell_type": "markdown",
   "metadata": {},
   "source": [
    "## Randomly allocating samples\n",
    "Randomly permute the observations and calculate a difference in proportions that could arise from a null distribution.\n",
    "\n",
    "Using the NHANES dataset, let's investigate the relationship between gender and home ownership. Type ?NHANES in the console to get a description of its variables"
   ]
  },
  {
   "cell_type": "markdown",
   "metadata": {},
   "source": [
    "Subset the NHANES dataset to consider only individuals whose home ownership status is either \"Own\" or \"Rent\". Save the result to homes"
   ]
  },
  {
   "cell_type": "code",
   "execution_count": 5,
   "metadata": {},
   "outputs": [
    {
     "data": {
      "text/html": [
       "<div>\n",
       "<style scoped>\n",
       "    .dataframe tbody tr th:only-of-type {\n",
       "        vertical-align: middle;\n",
       "    }\n",
       "\n",
       "    .dataframe tbody tr th {\n",
       "        vertical-align: top;\n",
       "    }\n",
       "\n",
       "    .dataframe thead th {\n",
       "        text-align: right;\n",
       "    }\n",
       "</style>\n",
       "<table border=\"1\" class=\"dataframe\">\n",
       "  <thead>\n",
       "    <tr style=\"text-align: right;\">\n",
       "      <th></th>\n",
       "      <th>Gender</th>\n",
       "      <th>HomeOwn</th>\n",
       "      <th>count</th>\n",
       "    </tr>\n",
       "  </thead>\n",
       "  <tbody>\n",
       "    <tr>\n",
       "      <th>1</th>\n",
       "      <td>male</td>\n",
       "      <td>Own</td>\n",
       "      <td>1</td>\n",
       "    </tr>\n",
       "    <tr>\n",
       "      <th>2</th>\n",
       "      <td>male</td>\n",
       "      <td>Own</td>\n",
       "      <td>1</td>\n",
       "    </tr>\n",
       "    <tr>\n",
       "      <th>3</th>\n",
       "      <td>male</td>\n",
       "      <td>Own</td>\n",
       "      <td>1</td>\n",
       "    </tr>\n",
       "    <tr>\n",
       "      <th>4</th>\n",
       "      <td>male</td>\n",
       "      <td>Own</td>\n",
       "      <td>1</td>\n",
       "    </tr>\n",
       "    <tr>\n",
       "      <th>5</th>\n",
       "      <td>female</td>\n",
       "      <td>Rent</td>\n",
       "      <td>1</td>\n",
       "    </tr>\n",
       "  </tbody>\n",
       "</table>\n",
       "</div>"
      ],
      "text/plain": [
       "   Gender HomeOwn  count\n",
       "1    male     Own      1\n",
       "2    male     Own      1\n",
       "3    male     Own      1\n",
       "4    male     Own      1\n",
       "5  female    Rent      1"
      ]
     },
     "execution_count": 5,
     "metadata": {},
     "output_type": "execute_result"
    }
   ],
   "source": [
    "homes = NHANES[(NHANES[\"HomeOwn\"]== \"Own\") | (NHANES[\"HomeOwn\"]==\"Rent\")][[\"Gender\",\"HomeOwn\"]]\n",
    "homes['count'] = 1\n",
    "homes.head()"
   ]
  },
  {
   "cell_type": "markdown",
   "metadata": {},
   "source": [
    "Perform a single permutation to evaluate whether home ownership status (i.e. HomeOwn) differs between the \"female\" and \"male\" groups:\n",
    "In your call, shuffle home ownership status. Call this new variable HomeOwn_perm, a permuted version of HomeOwn."
   ]
  },
  {
   "cell_type": "code",
   "execution_count": 6,
   "metadata": {},
   "outputs": [
    {
     "data": {
      "text/html": [
       "<div>\n",
       "<style scoped>\n",
       "    .dataframe tbody tr th:only-of-type {\n",
       "        vertical-align: middle;\n",
       "    }\n",
       "\n",
       "    .dataframe tbody tr th {\n",
       "        vertical-align: top;\n",
       "    }\n",
       "\n",
       "    .dataframe thead tr th {\n",
       "        text-align: left;\n",
       "    }\n",
       "\n",
       "    .dataframe thead tr:last-of-type th {\n",
       "        text-align: right;\n",
       "    }\n",
       "</style>\n",
       "<table border=\"1\" class=\"dataframe\">\n",
       "  <thead>\n",
       "    <tr>\n",
       "      <th></th>\n",
       "      <th colspan=\"2\" halign=\"left\">count</th>\n",
       "    </tr>\n",
       "    <tr>\n",
       "      <th>HomeOwn</th>\n",
       "      <th>Own</th>\n",
       "      <th>Rent</th>\n",
       "    </tr>\n",
       "    <tr>\n",
       "      <th>Gender</th>\n",
       "      <th></th>\n",
       "      <th></th>\n",
       "    </tr>\n",
       "  </thead>\n",
       "  <tbody>\n",
       "    <tr>\n",
       "      <th>female</th>\n",
       "      <td>3254</td>\n",
       "      <td>1636</td>\n",
       "    </tr>\n",
       "    <tr>\n",
       "      <th>male</th>\n",
       "      <td>3171</td>\n",
       "      <td>1651</td>\n",
       "    </tr>\n",
       "  </tbody>\n",
       "</table>\n",
       "</div>"
      ],
      "text/plain": [
       "        count      \n",
       "HomeOwn   Own  Rent\n",
       "Gender             \n",
       "female   3254  1636\n",
       "male     3171  1651"
      ]
     },
     "execution_count": 6,
     "metadata": {},
     "output_type": "execute_result"
    }
   ],
   "source": [
    "homes.groupby(by = [\"Gender\",\"HomeOwn\"]).count().unstack()"
   ]
  },
  {
   "cell_type": "code",
   "execution_count": 7,
   "metadata": {},
   "outputs": [
    {
     "data": {
      "text/html": [
       "<div>\n",
       "<style scoped>\n",
       "    .dataframe tbody tr th:only-of-type {\n",
       "        vertical-align: middle;\n",
       "    }\n",
       "\n",
       "    .dataframe tbody tr th {\n",
       "        vertical-align: top;\n",
       "    }\n",
       "\n",
       "    .dataframe thead th {\n",
       "        text-align: right;\n",
       "    }\n",
       "</style>\n",
       "<table border=\"1\" class=\"dataframe\">\n",
       "  <thead>\n",
       "    <tr style=\"text-align: right;\">\n",
       "      <th></th>\n",
       "      <th>Gender</th>\n",
       "      <th>HomeOwn</th>\n",
       "      <th>count</th>\n",
       "    </tr>\n",
       "  </thead>\n",
       "  <tbody>\n",
       "    <tr>\n",
       "      <th>4401</th>\n",
       "      <td>female</td>\n",
       "      <td>Own</td>\n",
       "      <td>1</td>\n",
       "    </tr>\n",
       "  </tbody>\n",
       "</table>\n",
       "</div>"
      ],
      "text/plain": [
       "      Gender HomeOwn  count\n",
       "4401  female     Own      1"
      ]
     },
     "execution_count": 7,
     "metadata": {},
     "output_type": "execute_result"
    }
   ],
   "source": [
    "homes_s1 = homes.sample()\n",
    "homes_s1"
   ]
  },
  {
   "cell_type": "code",
   "execution_count": 8,
   "metadata": {},
   "outputs": [
    {
     "data": {
      "text/html": [
       "<div>\n",
       "<style scoped>\n",
       "    .dataframe tbody tr th:only-of-type {\n",
       "        vertical-align: middle;\n",
       "    }\n",
       "\n",
       "    .dataframe tbody tr th {\n",
       "        vertical-align: top;\n",
       "    }\n",
       "\n",
       "    .dataframe thead tr th {\n",
       "        text-align: left;\n",
       "    }\n",
       "\n",
       "    .dataframe thead tr:last-of-type th {\n",
       "        text-align: right;\n",
       "    }\n",
       "</style>\n",
       "<table border=\"1\" class=\"dataframe\">\n",
       "  <thead>\n",
       "    <tr>\n",
       "      <th></th>\n",
       "      <th>count</th>\n",
       "    </tr>\n",
       "    <tr>\n",
       "      <th>HomeOwn</th>\n",
       "      <th>Own</th>\n",
       "    </tr>\n",
       "    <tr>\n",
       "      <th>Gender</th>\n",
       "      <th></th>\n",
       "    </tr>\n",
       "  </thead>\n",
       "  <tbody>\n",
       "    <tr>\n",
       "      <th>female</th>\n",
       "      <td>1</td>\n",
       "    </tr>\n",
       "  </tbody>\n",
       "</table>\n",
       "</div>"
      ],
      "text/plain": [
       "        count\n",
       "HomeOwn   Own\n",
       "Gender       \n",
       "female      1"
      ]
     },
     "execution_count": 8,
     "metadata": {},
     "output_type": "execute_result"
    }
   ],
   "source": [
    "homes_s1.groupby(by = [\"Gender\",\"HomeOwn\"]).count().unstack()"
   ]
  },
  {
   "cell_type": "code",
   "execution_count": null,
   "metadata": {},
   "outputs": [],
   "source": []
  },
  {
   "cell_type": "code",
   "execution_count": null,
   "metadata": {},
   "outputs": [],
   "source": []
  },
  {
   "cell_type": "markdown",
   "metadata": {},
   "source": [
    "## Testing different shuffle approaches "
   ]
  },
  {
   "cell_type": "code",
   "execution_count": 9,
   "metadata": {},
   "outputs": [
    {
     "data": {
      "text/html": [
       "<div>\n",
       "<style scoped>\n",
       "    .dataframe tbody tr th:only-of-type {\n",
       "        vertical-align: middle;\n",
       "    }\n",
       "\n",
       "    .dataframe tbody tr th {\n",
       "        vertical-align: top;\n",
       "    }\n",
       "\n",
       "    .dataframe thead th {\n",
       "        text-align: right;\n",
       "    }\n",
       "</style>\n",
       "<table border=\"1\" class=\"dataframe\">\n",
       "  <thead>\n",
       "    <tr style=\"text-align: right;\">\n",
       "      <th></th>\n",
       "      <th>Coast</th>\n",
       "      <th>Cola</th>\n",
       "      <th>count</th>\n",
       "    </tr>\n",
       "  </thead>\n",
       "  <tbody>\n",
       "    <tr>\n",
       "      <th>0</th>\n",
       "      <td>East</td>\n",
       "      <td>Coke</td>\n",
       "      <td>1</td>\n",
       "    </tr>\n",
       "    <tr>\n",
       "      <th>1</th>\n",
       "      <td>West</td>\n",
       "      <td>Coke</td>\n",
       "      <td>1</td>\n",
       "    </tr>\n",
       "    <tr>\n",
       "      <th>2</th>\n",
       "      <td>West</td>\n",
       "      <td>NaN</td>\n",
       "      <td>1</td>\n",
       "    </tr>\n",
       "    <tr>\n",
       "      <th>3</th>\n",
       "      <td>West</td>\n",
       "      <td>NaN</td>\n",
       "      <td>1</td>\n",
       "    </tr>\n",
       "    <tr>\n",
       "      <th>4</th>\n",
       "      <td>East</td>\n",
       "      <td>Coke</td>\n",
       "      <td>1</td>\n",
       "    </tr>\n",
       "  </tbody>\n",
       "</table>\n",
       "</div>"
      ],
      "text/plain": [
       "  Coast  Cola  count\n",
       "0  East  Coke      1\n",
       "1  West  Coke      1\n",
       "2  West   NaN      1\n",
       "3  West   NaN      1\n",
       "4  East  Coke      1"
      ]
     },
     "metadata": {},
     "output_type": "display_data"
    },
    {
     "data": {
      "text/html": [
       "<div>\n",
       "<style scoped>\n",
       "    .dataframe tbody tr th:only-of-type {\n",
       "        vertical-align: middle;\n",
       "    }\n",
       "\n",
       "    .dataframe tbody tr th {\n",
       "        vertical-align: top;\n",
       "    }\n",
       "\n",
       "    .dataframe thead th {\n",
       "        text-align: right;\n",
       "    }\n",
       "</style>\n",
       "<table border=\"1\" class=\"dataframe\">\n",
       "  <thead>\n",
       "    <tr style=\"text-align: right;\">\n",
       "      <th></th>\n",
       "      <th></th>\n",
       "      <th>count</th>\n",
       "    </tr>\n",
       "    <tr>\n",
       "      <th>Coast</th>\n",
       "      <th>Cola</th>\n",
       "      <th></th>\n",
       "    </tr>\n",
       "  </thead>\n",
       "  <tbody>\n",
       "    <tr>\n",
       "      <th>East</th>\n",
       "      <th>Coke</th>\n",
       "      <td>2</td>\n",
       "    </tr>\n",
       "    <tr>\n",
       "      <th>West</th>\n",
       "      <th>Coke</th>\n",
       "      <td>1</td>\n",
       "    </tr>\n",
       "  </tbody>\n",
       "</table>\n",
       "</div>"
      ],
      "text/plain": [
       "            count\n",
       "Coast Cola       \n",
       "East  Coke      2\n",
       "West  Coke      1"
      ]
     },
     "execution_count": 9,
     "metadata": {},
     "output_type": "execute_result"
    }
   ],
   "source": [
    "raw_data = {'Coast': ['East', 'West', 'West', 'West', 'East'], \n",
    "        'Cola': ['Coke', 'Coke', np.NaN, np.NaN, 'Coke']}\n",
    "df = pd.DataFrame(raw_data, columns = ['Coast', 'Cola'])\n",
    "df['count']=1\n",
    "display(df)\n",
    "df.groupby([\"Coast\",\"Cola\"]).count()"
   ]
  },
  {
   "cell_type": "markdown",
   "metadata": {},
   "source": [
    "### Permutations approach 1"
   ]
  },
  {
   "cell_type": "code",
   "execution_count": 10,
   "metadata": {},
   "outputs": [
    {
     "data": {
      "text/html": [
       "<div>\n",
       "<style scoped>\n",
       "    .dataframe tbody tr th:only-of-type {\n",
       "        vertical-align: middle;\n",
       "    }\n",
       "\n",
       "    .dataframe tbody tr th {\n",
       "        vertical-align: top;\n",
       "    }\n",
       "\n",
       "    .dataframe thead th {\n",
       "        text-align: right;\n",
       "    }\n",
       "</style>\n",
       "<table border=\"1\" class=\"dataframe\">\n",
       "  <thead>\n",
       "    <tr style=\"text-align: right;\">\n",
       "      <th></th>\n",
       "      <th>Coast</th>\n",
       "      <th>Cola</th>\n",
       "      <th>count</th>\n",
       "    </tr>\n",
       "  </thead>\n",
       "  <tbody>\n",
       "    <tr>\n",
       "      <th>3</th>\n",
       "      <td>West</td>\n",
       "      <td>NaN</td>\n",
       "      <td>1</td>\n",
       "    </tr>\n",
       "    <tr>\n",
       "      <th>4</th>\n",
       "      <td>East</td>\n",
       "      <td>Coke</td>\n",
       "      <td>1</td>\n",
       "    </tr>\n",
       "    <tr>\n",
       "      <th>0</th>\n",
       "      <td>East</td>\n",
       "      <td>Coke</td>\n",
       "      <td>1</td>\n",
       "    </tr>\n",
       "    <tr>\n",
       "      <th>1</th>\n",
       "      <td>West</td>\n",
       "      <td>Coke</td>\n",
       "      <td>1</td>\n",
       "    </tr>\n",
       "    <tr>\n",
       "      <th>2</th>\n",
       "      <td>West</td>\n",
       "      <td>NaN</td>\n",
       "      <td>1</td>\n",
       "    </tr>\n",
       "  </tbody>\n",
       "</table>\n",
       "</div>"
      ],
      "text/plain": [
       "  Coast  Cola  count\n",
       "3  West   NaN      1\n",
       "4  East  Coke      1\n",
       "0  East  Coke      1\n",
       "1  West  Coke      1\n",
       "2  West   NaN      1"
      ]
     },
     "metadata": {},
     "output_type": "display_data"
    },
    {
     "data": {
      "text/html": [
       "<div>\n",
       "<style scoped>\n",
       "    .dataframe tbody tr th:only-of-type {\n",
       "        vertical-align: middle;\n",
       "    }\n",
       "\n",
       "    .dataframe tbody tr th {\n",
       "        vertical-align: top;\n",
       "    }\n",
       "\n",
       "    .dataframe thead th {\n",
       "        text-align: right;\n",
       "    }\n",
       "</style>\n",
       "<table border=\"1\" class=\"dataframe\">\n",
       "  <thead>\n",
       "    <tr style=\"text-align: right;\">\n",
       "      <th></th>\n",
       "      <th></th>\n",
       "      <th>count</th>\n",
       "    </tr>\n",
       "    <tr>\n",
       "      <th>Coast</th>\n",
       "      <th>Cola</th>\n",
       "      <th></th>\n",
       "    </tr>\n",
       "  </thead>\n",
       "  <tbody>\n",
       "    <tr>\n",
       "      <th>East</th>\n",
       "      <th>Coke</th>\n",
       "      <td>2</td>\n",
       "    </tr>\n",
       "    <tr>\n",
       "      <th>West</th>\n",
       "      <th>Coke</th>\n",
       "      <td>1</td>\n",
       "    </tr>\n",
       "  </tbody>\n",
       "</table>\n",
       "</div>"
      ],
      "text/plain": [
       "            count\n",
       "Coast Cola       \n",
       "East  Coke      2\n",
       "West  Coke      1"
      ]
     },
     "execution_count": 10,
     "metadata": {},
     "output_type": "execute_result"
    }
   ],
   "source": [
    "p1 = df.reindex(np.random.permutation(df.index))\n",
    "display(p1)\n",
    "p1.groupby([\"Coast\",\"Cola\"]).count()"
   ]
  },
  {
   "cell_type": "code",
   "execution_count": 11,
   "metadata": {},
   "outputs": [
    {
     "data": {
      "text/html": [
       "<div>\n",
       "<style scoped>\n",
       "    .dataframe tbody tr th:only-of-type {\n",
       "        vertical-align: middle;\n",
       "    }\n",
       "\n",
       "    .dataframe tbody tr th {\n",
       "        vertical-align: top;\n",
       "    }\n",
       "\n",
       "    .dataframe thead th {\n",
       "        text-align: right;\n",
       "    }\n",
       "</style>\n",
       "<table border=\"1\" class=\"dataframe\">\n",
       "  <thead>\n",
       "    <tr style=\"text-align: right;\">\n",
       "      <th></th>\n",
       "      <th>Coast</th>\n",
       "      <th>Cola</th>\n",
       "      <th>count</th>\n",
       "    </tr>\n",
       "  </thead>\n",
       "  <tbody>\n",
       "    <tr>\n",
       "      <th>0</th>\n",
       "      <td>West</td>\n",
       "      <td>NaN</td>\n",
       "      <td>1</td>\n",
       "    </tr>\n",
       "    <tr>\n",
       "      <th>1</th>\n",
       "      <td>East</td>\n",
       "      <td>Coke</td>\n",
       "      <td>1</td>\n",
       "    </tr>\n",
       "    <tr>\n",
       "      <th>2</th>\n",
       "      <td>West</td>\n",
       "      <td>Coke</td>\n",
       "      <td>1</td>\n",
       "    </tr>\n",
       "    <tr>\n",
       "      <th>3</th>\n",
       "      <td>West</td>\n",
       "      <td>NaN</td>\n",
       "      <td>1</td>\n",
       "    </tr>\n",
       "    <tr>\n",
       "      <th>4</th>\n",
       "      <td>East</td>\n",
       "      <td>Coke</td>\n",
       "      <td>1</td>\n",
       "    </tr>\n",
       "  </tbody>\n",
       "</table>\n",
       "</div>"
      ],
      "text/plain": [
       "  Coast  Cola  count\n",
       "0  West   NaN      1\n",
       "1  East  Coke      1\n",
       "2  West  Coke      1\n",
       "3  West   NaN      1\n",
       "4  East  Coke      1"
      ]
     },
     "metadata": {},
     "output_type": "display_data"
    },
    {
     "data": {
      "text/html": [
       "<div>\n",
       "<style scoped>\n",
       "    .dataframe tbody tr th:only-of-type {\n",
       "        vertical-align: middle;\n",
       "    }\n",
       "\n",
       "    .dataframe tbody tr th {\n",
       "        vertical-align: top;\n",
       "    }\n",
       "\n",
       "    .dataframe thead th {\n",
       "        text-align: right;\n",
       "    }\n",
       "</style>\n",
       "<table border=\"1\" class=\"dataframe\">\n",
       "  <thead>\n",
       "    <tr style=\"text-align: right;\">\n",
       "      <th></th>\n",
       "      <th></th>\n",
       "      <th>count</th>\n",
       "    </tr>\n",
       "    <tr>\n",
       "      <th>Coast</th>\n",
       "      <th>Cola</th>\n",
       "      <th></th>\n",
       "    </tr>\n",
       "  </thead>\n",
       "  <tbody>\n",
       "    <tr>\n",
       "      <th>East</th>\n",
       "      <th>Coke</th>\n",
       "      <td>2</td>\n",
       "    </tr>\n",
       "    <tr>\n",
       "      <th>West</th>\n",
       "      <th>Coke</th>\n",
       "      <td>1</td>\n",
       "    </tr>\n",
       "  </tbody>\n",
       "</table>\n",
       "</div>"
      ],
      "text/plain": [
       "            count\n",
       "Coast Cola       \n",
       "East  Coke      2\n",
       "West  Coke      1"
      ]
     },
     "execution_count": 11,
     "metadata": {},
     "output_type": "execute_result"
    }
   ],
   "source": [
    "p2 = df.sample(frac=1, axis=0).reset_index(drop=True)\n",
    "display(p2)\n",
    "p2.groupby([\"Coast\",\"Cola\"]).count()"
   ]
  },
  {
   "cell_type": "code",
   "execution_count": 12,
   "metadata": {},
   "outputs": [
    {
     "data": {
      "text/html": [
       "<div>\n",
       "<style scoped>\n",
       "    .dataframe tbody tr th:only-of-type {\n",
       "        vertical-align: middle;\n",
       "    }\n",
       "\n",
       "    .dataframe tbody tr th {\n",
       "        vertical-align: top;\n",
       "    }\n",
       "\n",
       "    .dataframe thead th {\n",
       "        text-align: right;\n",
       "    }\n",
       "</style>\n",
       "<table border=\"1\" class=\"dataframe\">\n",
       "  <thead>\n",
       "    <tr style=\"text-align: right;\">\n",
       "      <th></th>\n",
       "      <th>Coast</th>\n",
       "      <th>Cola</th>\n",
       "      <th>count</th>\n",
       "    </tr>\n",
       "  </thead>\n",
       "  <tbody>\n",
       "    <tr>\n",
       "      <th>0</th>\n",
       "      <td>West</td>\n",
       "      <td>Coke</td>\n",
       "      <td>1</td>\n",
       "    </tr>\n",
       "    <tr>\n",
       "      <th>1</th>\n",
       "      <td>West</td>\n",
       "      <td>NaN</td>\n",
       "      <td>1</td>\n",
       "    </tr>\n",
       "    <tr>\n",
       "      <th>2</th>\n",
       "      <td>East</td>\n",
       "      <td>NaN</td>\n",
       "      <td>1</td>\n",
       "    </tr>\n",
       "    <tr>\n",
       "      <th>3</th>\n",
       "      <td>East</td>\n",
       "      <td>Coke</td>\n",
       "      <td>1</td>\n",
       "    </tr>\n",
       "    <tr>\n",
       "      <th>4</th>\n",
       "      <td>West</td>\n",
       "      <td>Coke</td>\n",
       "      <td>1</td>\n",
       "    </tr>\n",
       "  </tbody>\n",
       "</table>\n",
       "</div>"
      ],
      "text/plain": [
       "  Coast  Cola  count\n",
       "0  West  Coke      1\n",
       "1  West   NaN      1\n",
       "2  East   NaN      1\n",
       "3  East  Coke      1\n",
       "4  West  Coke      1"
      ]
     },
     "metadata": {},
     "output_type": "display_data"
    },
    {
     "data": {
      "text/html": [
       "<div>\n",
       "<style scoped>\n",
       "    .dataframe tbody tr th:only-of-type {\n",
       "        vertical-align: middle;\n",
       "    }\n",
       "\n",
       "    .dataframe tbody tr th {\n",
       "        vertical-align: top;\n",
       "    }\n",
       "\n",
       "    .dataframe thead th {\n",
       "        text-align: right;\n",
       "    }\n",
       "</style>\n",
       "<table border=\"1\" class=\"dataframe\">\n",
       "  <thead>\n",
       "    <tr style=\"text-align: right;\">\n",
       "      <th></th>\n",
       "      <th></th>\n",
       "      <th>count</th>\n",
       "    </tr>\n",
       "    <tr>\n",
       "      <th>Coast</th>\n",
       "      <th>Cola</th>\n",
       "      <th></th>\n",
       "    </tr>\n",
       "  </thead>\n",
       "  <tbody>\n",
       "    <tr>\n",
       "      <th>East</th>\n",
       "      <th>Coke</th>\n",
       "      <td>1</td>\n",
       "    </tr>\n",
       "    <tr>\n",
       "      <th>West</th>\n",
       "      <th>Coke</th>\n",
       "      <td>2</td>\n",
       "    </tr>\n",
       "  </tbody>\n",
       "</table>\n",
       "</div>"
      ],
      "text/plain": [
       "            count\n",
       "Coast Cola       \n",
       "East  Coke      1\n",
       "West  Coke      2"
      ]
     },
     "execution_count": 12,
     "metadata": {},
     "output_type": "execute_result"
    }
   ],
   "source": [
    "p3 = df.apply(np.random.permutation, axis=0)    \n",
    "display(p3)\n",
    "p3.groupby([\"Coast\",\"Cola\"]).count()"
   ]
  },
  {
   "cell_type": "code",
   "execution_count": 13,
   "metadata": {},
   "outputs": [
    {
     "data": {
      "text/html": [
       "<div>\n",
       "<style scoped>\n",
       "    .dataframe tbody tr th:only-of-type {\n",
       "        vertical-align: middle;\n",
       "    }\n",
       "\n",
       "    .dataframe tbody tr th {\n",
       "        vertical-align: top;\n",
       "    }\n",
       "\n",
       "    .dataframe thead th {\n",
       "        text-align: right;\n",
       "    }\n",
       "</style>\n",
       "<table border=\"1\" class=\"dataframe\">\n",
       "  <thead>\n",
       "    <tr style=\"text-align: right;\">\n",
       "      <th></th>\n",
       "      <th>Coast</th>\n",
       "      <th>Cola</th>\n",
       "      <th>count</th>\n",
       "    </tr>\n",
       "  </thead>\n",
       "  <tbody>\n",
       "    <tr>\n",
       "      <th>0</th>\n",
       "      <td>East</td>\n",
       "      <td>Coke</td>\n",
       "      <td>1</td>\n",
       "    </tr>\n",
       "    <tr>\n",
       "      <th>2</th>\n",
       "      <td>West</td>\n",
       "      <td>NaN</td>\n",
       "      <td>1</td>\n",
       "    </tr>\n",
       "    <tr>\n",
       "      <th>3</th>\n",
       "      <td>West</td>\n",
       "      <td>NaN</td>\n",
       "      <td>1</td>\n",
       "    </tr>\n",
       "    <tr>\n",
       "      <th>1</th>\n",
       "      <td>West</td>\n",
       "      <td>Coke</td>\n",
       "      <td>1</td>\n",
       "    </tr>\n",
       "    <tr>\n",
       "      <th>4</th>\n",
       "      <td>East</td>\n",
       "      <td>Coke</td>\n",
       "      <td>1</td>\n",
       "    </tr>\n",
       "  </tbody>\n",
       "</table>\n",
       "</div>"
      ],
      "text/plain": [
       "  Coast  Cola  count\n",
       "0  East  Coke      1\n",
       "2  West   NaN      1\n",
       "3  West   NaN      1\n",
       "1  West  Coke      1\n",
       "4  East  Coke      1"
      ]
     },
     "metadata": {},
     "output_type": "display_data"
    },
    {
     "data": {
      "text/html": [
       "<div>\n",
       "<style scoped>\n",
       "    .dataframe tbody tr th:only-of-type {\n",
       "        vertical-align: middle;\n",
       "    }\n",
       "\n",
       "    .dataframe tbody tr th {\n",
       "        vertical-align: top;\n",
       "    }\n",
       "\n",
       "    .dataframe thead th {\n",
       "        text-align: right;\n",
       "    }\n",
       "</style>\n",
       "<table border=\"1\" class=\"dataframe\">\n",
       "  <thead>\n",
       "    <tr style=\"text-align: right;\">\n",
       "      <th></th>\n",
       "      <th></th>\n",
       "      <th>count</th>\n",
       "    </tr>\n",
       "    <tr>\n",
       "      <th>Coast</th>\n",
       "      <th>Cola</th>\n",
       "      <th></th>\n",
       "    </tr>\n",
       "  </thead>\n",
       "  <tbody>\n",
       "    <tr>\n",
       "      <th>East</th>\n",
       "      <th>Coke</th>\n",
       "      <td>2</td>\n",
       "    </tr>\n",
       "    <tr>\n",
       "      <th>West</th>\n",
       "      <th>Coke</th>\n",
       "      <td>1</td>\n",
       "    </tr>\n",
       "  </tbody>\n",
       "</table>\n",
       "</div>"
      ],
      "text/plain": [
       "            count\n",
       "Coast Cola       \n",
       "East  Coke      2\n",
       "West  Coke      1"
      ]
     },
     "execution_count": 13,
     "metadata": {},
     "output_type": "execute_result"
    }
   ],
   "source": [
    "p4 = shuffle(df)\n",
    "display(p4)\n",
    "p4.groupby([\"Coast\",\"Cola\"]).count()"
   ]
  },
  {
   "cell_type": "code",
   "execution_count": 14,
   "metadata": {},
   "outputs": [
    {
     "data": {
      "text/plain": [
       "None"
      ]
     },
     "metadata": {},
     "output_type": "display_data"
    }
   ],
   "source": [
    "display(np.random.shuffle(df.values))"
   ]
  },
  {
   "cell_type": "code",
   "execution_count": null,
   "metadata": {},
   "outputs": [],
   "source": []
  },
  {
   "cell_type": "code",
   "execution_count": null,
   "metadata": {},
   "outputs": [],
   "source": []
  },
  {
   "cell_type": "markdown",
   "metadata": {},
   "source": [
    "# Verizon Example\n",
    "Repair times for two different customers groups:\n",
    " - ILEC = Incumbent Local Exchange Carrier i.e. Verizon\n",
    " - CLEC = Competing Local Exchange Carrier i.e. others\n",
    " Verizon is subject to substantial fines if the repair times for CLEC are substantially worse than for ILEC"
   ]
  },
  {
   "cell_type": "markdown",
   "metadata": {},
   "source": [
    "### Descriptive statistics "
   ]
  },
  {
   "cell_type": "code",
   "execution_count": 15,
   "metadata": {},
   "outputs": [
    {
     "data": {
      "text/html": [
       "<div>\n",
       "<style scoped>\n",
       "    .dataframe tbody tr th:only-of-type {\n",
       "        vertical-align: middle;\n",
       "    }\n",
       "\n",
       "    .dataframe tbody tr th {\n",
       "        vertical-align: top;\n",
       "    }\n",
       "\n",
       "    .dataframe thead th {\n",
       "        text-align: right;\n",
       "    }\n",
       "</style>\n",
       "<table border=\"1\" class=\"dataframe\">\n",
       "  <thead>\n",
       "    <tr style=\"text-align: right;\">\n",
       "      <th></th>\n",
       "      <th>Time</th>\n",
       "      <th>Group</th>\n",
       "    </tr>\n",
       "  </thead>\n",
       "  <tbody>\n",
       "    <tr>\n",
       "      <th>0</th>\n",
       "      <td>17.50</td>\n",
       "      <td>ILEC</td>\n",
       "    </tr>\n",
       "    <tr>\n",
       "      <th>1</th>\n",
       "      <td>2.40</td>\n",
       "      <td>ILEC</td>\n",
       "    </tr>\n",
       "    <tr>\n",
       "      <th>2</th>\n",
       "      <td>0.00</td>\n",
       "      <td>ILEC</td>\n",
       "    </tr>\n",
       "    <tr>\n",
       "      <th>3</th>\n",
       "      <td>0.65</td>\n",
       "      <td>ILEC</td>\n",
       "    </tr>\n",
       "    <tr>\n",
       "      <th>4</th>\n",
       "      <td>22.23</td>\n",
       "      <td>ILEC</td>\n",
       "    </tr>\n",
       "  </tbody>\n",
       "</table>\n",
       "</div>"
      ],
      "text/plain": [
       "    Time Group\n",
       "0  17.50  ILEC\n",
       "1   2.40  ILEC\n",
       "2   0.00  ILEC\n",
       "3   0.65  ILEC\n",
       "4  22.23  ILEC"
      ]
     },
     "metadata": {},
     "output_type": "display_data"
    },
    {
     "data": {
      "text/html": [
       "<div>\n",
       "<style scoped>\n",
       "    .dataframe tbody tr th:only-of-type {\n",
       "        vertical-align: middle;\n",
       "    }\n",
       "\n",
       "    .dataframe tbody tr th {\n",
       "        vertical-align: top;\n",
       "    }\n",
       "\n",
       "    .dataframe thead tr th {\n",
       "        text-align: left;\n",
       "    }\n",
       "\n",
       "    .dataframe thead tr:last-of-type th {\n",
       "        text-align: right;\n",
       "    }\n",
       "</style>\n",
       "<table border=\"1\" class=\"dataframe\">\n",
       "  <thead>\n",
       "    <tr>\n",
       "      <th></th>\n",
       "      <th colspan=\"8\" halign=\"left\">Time</th>\n",
       "    </tr>\n",
       "    <tr>\n",
       "      <th></th>\n",
       "      <th>count</th>\n",
       "      <th>mean</th>\n",
       "      <th>std</th>\n",
       "      <th>min</th>\n",
       "      <th>25%</th>\n",
       "      <th>50%</th>\n",
       "      <th>75%</th>\n",
       "      <th>max</th>\n",
       "    </tr>\n",
       "    <tr>\n",
       "      <th>Group</th>\n",
       "      <th></th>\n",
       "      <th></th>\n",
       "      <th></th>\n",
       "      <th></th>\n",
       "      <th></th>\n",
       "      <th></th>\n",
       "      <th></th>\n",
       "      <th></th>\n",
       "    </tr>\n",
       "  </thead>\n",
       "  <tbody>\n",
       "    <tr>\n",
       "      <th>CLEC</th>\n",
       "      <td>23.0</td>\n",
       "      <td>16.509130</td>\n",
       "      <td>19.503576</td>\n",
       "      <td>0.0</td>\n",
       "      <td>5.425</td>\n",
       "      <td>14.33</td>\n",
       "      <td>20.715</td>\n",
       "      <td>96.32</td>\n",
       "    </tr>\n",
       "    <tr>\n",
       "      <th>ILEC</th>\n",
       "      <td>1664.0</td>\n",
       "      <td>8.411611</td>\n",
       "      <td>14.690039</td>\n",
       "      <td>0.0</td>\n",
       "      <td>0.730</td>\n",
       "      <td>3.59</td>\n",
       "      <td>7.080</td>\n",
       "      <td>191.60</td>\n",
       "    </tr>\n",
       "  </tbody>\n",
       "</table>\n",
       "</div>"
      ],
      "text/plain": [
       "         Time                                                         \n",
       "        count       mean        std  min    25%    50%     75%     max\n",
       "Group                                                                 \n",
       "CLEC     23.0  16.509130  19.503576  0.0  5.425  14.33  20.715   96.32\n",
       "ILEC   1664.0   8.411611  14.690039  0.0  0.730   3.59   7.080  191.60"
      ]
     },
     "metadata": {},
     "output_type": "display_data"
    }
   ],
   "source": [
    "verizon = pd.read_csv(\"verizon.csv\")\n",
    "display(verizon.head())\n",
    "display(verizon.groupby(\"Group\").describe())\n",
    "ILEC = verizon[verizon[\"Group\"]==\"ILEC\"].Time\n",
    "CLEC = verizon[verizon[\"Group\"]==\"CLEC\"].Time"
   ]
  },
  {
   "cell_type": "markdown",
   "metadata": {},
   "source": [
    "### Histogram"
   ]
  },
  {
   "cell_type": "code",
   "execution_count": 16,
   "metadata": {},
   "outputs": [
    {
     "name": "stderr",
     "output_type": "stream",
     "text": [
      "/anaconda3/lib/python3.6/site-packages/plotnine/stats/stat_bin.py:90: UserWarning: 'stat_bin()' using 'bins = 173'. Pick better value with 'binwidth'.\n",
      "  warn(msg.format(params['bins']))\n"
     ]
    },
    {
     "data": {
      "image/png": "[encoded data removed]",
      "text/plain": [
       "<matplotlib.figure.Figure at 0x1c0e90d908>"
      ]
     },
     "metadata": {},
     "output_type": "display_data"
    },
    {
     "data": {
      "text/plain": [
       "<ggplot: (-9223372029324538126)>"
      ]
     },
     "execution_count": 16,
     "metadata": {},
     "output_type": "execute_result"
    }
   ],
   "source": [
    "# Create histogram\n",
    "ggplot(verizon, aes(x = \"Time\" )) + geom_histogram() + ylab(\"Relative frequencies\") + facet_wrap(\"~ Group\") + coord_cartesian(xlim = (0, 100)) + ggtitle(\"Repair times histograms\")\n"
   ]
  },
  {
   "cell_type": "markdown",
   "metadata": {},
   "source": [
    "### Density plot"
   ]
  },
  {
   "cell_type": "code",
   "execution_count": 17,
   "metadata": {},
   "outputs": [
    {
     "data": {
      "image/png": "[encoded data removed]",
      "text/plain": [
       "<matplotlib.figure.Figure at 0x1c0e6ec550>"
      ]
     },
     "metadata": {},
     "output_type": "display_data"
    },
    {
     "data": {
      "text/plain": [
       "<ggplot: (-9223372036578766462)>"
      ]
     },
     "execution_count": 17,
     "metadata": {},
     "output_type": "execute_result"
    }
   ],
   "source": [
    "# Create histogram\n",
    "ggplot(verizon, aes(x = \"Time\" , fill = \"Group\")) + geom_density(alpha = .3) \\\n",
    "+  ggtitle(\"Repair times distribution\")\n"
   ]
  },
  {
   "cell_type": "markdown",
   "metadata": {},
   "source": [
    "### Box plot"
   ]
  },
  {
   "cell_type": "code",
   "execution_count": 18,
   "metadata": {},
   "outputs": [
    {
     "data": {
      "image/png": "[encoded data removed]",
      "text/plain": [
       "<matplotlib.figure.Figure at 0x1c0e23e9b0>"
      ]
     },
     "metadata": {},
     "output_type": "display_data"
    },
    {
     "data": {
      "text/plain": [
       "<ggplot: (7531361789)>"
      ]
     },
     "execution_count": 18,
     "metadata": {},
     "output_type": "execute_result"
    }
   ],
   "source": [
    "ggplot(verizon, aes(x = \"Group\" , y = \"Time\")) + geom_boxplot() \\\n",
    "+  ggtitle(\"Repair times box plots\")"
   ]
  },
  {
   "cell_type": "markdown",
   "metadata": {},
   "source": [
    "### QQ plots to check normality\n",
    "For all data points"
   ]
  },
  {
   "cell_type": "code",
   "execution_count": 19,
   "metadata": {},
   "outputs": [
    {
     "data": {
      "image/png": "[encoded data removed]",
      "text/plain": [
       "<matplotlib.figure.Figure at 0x1c0f033748>"
      ]
     },
     "metadata": {},
     "output_type": "display_data"
    }
   ],
   "source": [
    "import scipy.stats as stats\n",
    "stats.probplot(verizon.Time, dist = \"norm\", plot = plt)\n",
    "plt.show()"
   ]
  },
  {
   "cell_type": "markdown",
   "metadata": {},
   "source": [
    "For the two groups separately "
   ]
  },
  {
   "cell_type": "code",
   "execution_count": 20,
   "metadata": {},
   "outputs": [
    {
     "data": {
      "image/png": "[encoded data removed]",
      "text/plain": [
       "<matplotlib.figure.Figure at 0x1c0e0bd6d8>"
      ]
     },
     "metadata": {},
     "output_type": "display_data"
    }
   ],
   "source": [
    "import statsmodels.api as sm\n",
    "stats.probplot(verizon[verizon[\"Group\"]==\"ILEC\"].Time, dist = \"norm\", plot = plt)\n",
    "plt.show()"
   ]
  },
  {
   "cell_type": "code",
   "execution_count": 21,
   "metadata": {},
   "outputs": [
    {
     "data": {
      "image/png": "[encoded data removed]",
      "text/plain": [
       "<matplotlib.figure.Figure at 0x1c0e80ab38>"
      ]
     },
     "metadata": {},
     "output_type": "display_data"
    }
   ],
   "source": [
    "stats.probplot(verizon[verizon[\"Group\"]==\"CLEC\"].Time, dist = \"norm\", plot = plt)\n",
    "plt.show()"
   ]
  },
  {
   "cell_type": "markdown",
   "metadata": {},
   "source": [
    "Normalizing the data first and using a different library"
   ]
  },
  {
   "cell_type": "code",
   "execution_count": 22,
   "metadata": {
    "scrolled": true
   },
   "outputs": [
    {
     "data": {
      "image/png": "[encoded data removed]",
      "text/plain": [
       "<matplotlib.figure.Figure at 0x1c178a4f60>"
      ]
     },
     "metadata": {},
     "output_type": "display_data"
    },
    {
     "data": {
      "image/png": "[encoded data removed]",
      "text/plain": [
       "<matplotlib.figure.Figure at 0x1c17f2be48>"
      ]
     },
     "metadata": {},
     "output_type": "display_data"
    }
   ],
   "source": [
    "Z_ILEC = stats.mstats.zscore(verizon[verizon[\"Group\"]==\"ILEC\"].Time)\n",
    "Z_CLEC = stats.mstats.zscore(verizon[verizon[\"Group\"]==\"CLEC\"].Time)\n",
    "sm.qqplot(Z_ILEC, line = '45')\n",
    "sm.qqplot(Z_CLEC, line = '45')\n",
    "plt.show()"
   ]
  },
  {
   "cell_type": "markdown",
   "metadata": {},
   "source": [
    "## Procedure for Bootstrapping\n",
    "1) **Resample**. Create hundreds of new samples, called bootstrap samples or resamples, by sampling *with replacement* from the original random sample. Each resample is the same size as the original random sample.\n",
    "\n",
    " - **Sampling with replacement** means that after we randomly draw an observation from the original sample, we put it back before drawing the next observation. This is like drawing a number from a hat, then putting it back before drawing again. As a result, any number can be drawn once, more than once, or not at all. If we sampled without replacement, we’d get the same set of numbers we started with, though in a different order. Figure 18.2 illustrates the bootstrap resampling process on a small scale. In practice, we would start with the entire original sample, not just six observations, and draw hundreds of resamples, not just three.\n",
    " \n",
    "\n",
    "2) **Calculate the bootstrap distribution**. Calculate the statistic for each resample. The distribution of these resample statistics is called a bootstrap distribution. In Case 18.1, we want to estimate the population mean repair time  , so the statistic is the sample mean x.\n",
    "\n",
    "3) **Use the bootstrap distribution**. The bootstrap distribution gives information about the shape, center, and spread of the sampling distribution of the statistic.\n"
   ]
  },
  {
   "cell_type": "markdown",
   "metadata": {},
   "source": [
    "### Defining the utility function"
   ]
  },
  {
   "cell_type": "code",
   "execution_count": 23,
   "metadata": {},
   "outputs": [],
   "source": [
    "def bootstrap_statistic(data,func, B = 1000):\n",
    "    '''Generate B bootstrap samples with replacement (for numpy array only) and calculate the test statistic for each.\n",
    "    Return a vector containing the test statistics'''\n",
    "    \n",
    "    statistics_vector = np.array([])\n",
    "    \n",
    "    for i in range(B):\n",
    "        bootstrap_sample = np.random.choice(data, len(data), replace = True)\n",
    "        statistics_vector = np.append(statistics_vector, func(bootstrap_sample))\n",
    "    \n",
    "    return statistics_vector"
   ]
  },
  {
   "cell_type": "markdown",
   "metadata": {},
   "source": [
    "#### Bootstrapping the mean of each group"
   ]
  },
  {
   "cell_type": "code",
   "execution_count": 24,
   "metadata": {},
   "outputs": [
    {
     "data": {
      "text/html": [
       "<div>\n",
       "<style scoped>\n",
       "    .dataframe tbody tr th:only-of-type {\n",
       "        vertical-align: middle;\n",
       "    }\n",
       "\n",
       "    .dataframe tbody tr th {\n",
       "        vertical-align: top;\n",
       "    }\n",
       "\n",
       "    .dataframe thead tr th {\n",
       "        text-align: left;\n",
       "    }\n",
       "\n",
       "    .dataframe thead tr:last-of-type th {\n",
       "        text-align: right;\n",
       "    }\n",
       "</style>\n",
       "<table border=\"1\" class=\"dataframe\">\n",
       "  <thead>\n",
       "    <tr>\n",
       "      <th></th>\n",
       "      <th colspan=\"8\" halign=\"left\">Time</th>\n",
       "    </tr>\n",
       "    <tr>\n",
       "      <th></th>\n",
       "      <th>count</th>\n",
       "      <th>mean</th>\n",
       "      <th>std</th>\n",
       "      <th>min</th>\n",
       "      <th>25%</th>\n",
       "      <th>50%</th>\n",
       "      <th>75%</th>\n",
       "      <th>max</th>\n",
       "    </tr>\n",
       "    <tr>\n",
       "      <th>Group</th>\n",
       "      <th></th>\n",
       "      <th></th>\n",
       "      <th></th>\n",
       "      <th></th>\n",
       "      <th></th>\n",
       "      <th></th>\n",
       "      <th></th>\n",
       "      <th></th>\n",
       "    </tr>\n",
       "  </thead>\n",
       "  <tbody>\n",
       "    <tr>\n",
       "      <th>CLEC_1k</th>\n",
       "      <td>1000.0</td>\n",
       "      <td>16.372349</td>\n",
       "      <td>3.767337</td>\n",
       "      <td>7.941739</td>\n",
       "      <td>13.522391</td>\n",
       "      <td>15.845435</td>\n",
       "      <td>18.834891</td>\n",
       "      <td>29.738261</td>\n",
       "    </tr>\n",
       "    <tr>\n",
       "      <th>ILEC_1k</th>\n",
       "      <td>1000.0</td>\n",
       "      <td>8.418264</td>\n",
       "      <td>0.358523</td>\n",
       "      <td>7.467025</td>\n",
       "      <td>8.155682</td>\n",
       "      <td>8.405285</td>\n",
       "      <td>8.669159</td>\n",
       "      <td>9.720487</td>\n",
       "    </tr>\n",
       "  </tbody>\n",
       "</table>\n",
       "</div>"
      ],
      "text/plain": [
       "           Time                                                       \\\n",
       "          count       mean       std       min        25%        50%   \n",
       "Group                                                                  \n",
       "CLEC_1k  1000.0  16.372349  3.767337  7.941739  13.522391  15.845435   \n",
       "ILEC_1k  1000.0   8.418264  0.358523  7.467025   8.155682   8.405285   \n",
       "\n",
       "                               \n",
       "               75%        max  \n",
       "Group                          \n",
       "CLEC_1k  18.834891  29.738261  \n",
       "ILEC_1k   8.669159   9.720487  "
      ]
     },
     "metadata": {},
     "output_type": "display_data"
    },
    {
     "data": {
      "text/html": [
       "<div>\n",
       "<style scoped>\n",
       "    .dataframe tbody tr th:only-of-type {\n",
       "        vertical-align: middle;\n",
       "    }\n",
       "\n",
       "    .dataframe tbody tr th {\n",
       "        vertical-align: top;\n",
       "    }\n",
       "\n",
       "    .dataframe thead tr th {\n",
       "        text-align: left;\n",
       "    }\n",
       "\n",
       "    .dataframe thead tr:last-of-type th {\n",
       "        text-align: right;\n",
       "    }\n",
       "</style>\n",
       "<table border=\"1\" class=\"dataframe\">\n",
       "  <thead>\n",
       "    <tr>\n",
       "      <th></th>\n",
       "      <th colspan=\"8\" halign=\"left\">Time</th>\n",
       "    </tr>\n",
       "    <tr>\n",
       "      <th></th>\n",
       "      <th>count</th>\n",
       "      <th>mean</th>\n",
       "      <th>std</th>\n",
       "      <th>min</th>\n",
       "      <th>25%</th>\n",
       "      <th>50%</th>\n",
       "      <th>75%</th>\n",
       "      <th>max</th>\n",
       "    </tr>\n",
       "    <tr>\n",
       "      <th>Group</th>\n",
       "      <th></th>\n",
       "      <th></th>\n",
       "      <th></th>\n",
       "      <th></th>\n",
       "      <th></th>\n",
       "      <th></th>\n",
       "      <th></th>\n",
       "      <th></th>\n",
       "    </tr>\n",
       "  </thead>\n",
       "  <tbody>\n",
       "    <tr>\n",
       "      <th>CLEC_10k</th>\n",
       "      <td>10000.0</td>\n",
       "      <td>16.489069</td>\n",
       "      <td>3.960898</td>\n",
       "      <td>5.796957</td>\n",
       "      <td>13.558696</td>\n",
       "      <td>16.115870</td>\n",
       "      <td>18.919348</td>\n",
       "      <td>38.351304</td>\n",
       "    </tr>\n",
       "    <tr>\n",
       "      <th>ILEC_10k</th>\n",
       "      <td>10000.0</td>\n",
       "      <td>8.411388</td>\n",
       "      <td>0.362536</td>\n",
       "      <td>7.093528</td>\n",
       "      <td>8.169727</td>\n",
       "      <td>8.401397</td>\n",
       "      <td>8.646566</td>\n",
       "      <td>9.947644</td>\n",
       "    </tr>\n",
       "  </tbody>\n",
       "</table>\n",
       "</div>"
      ],
      "text/plain": [
       "             Time                                                       \\\n",
       "            count       mean       std       min        25%        50%   \n",
       "Group                                                                    \n",
       "CLEC_10k  10000.0  16.489069  3.960898  5.796957  13.558696  16.115870   \n",
       "ILEC_10k  10000.0   8.411388  0.362536  7.093528   8.169727   8.401397   \n",
       "\n",
       "                                \n",
       "                75%        max  \n",
       "Group                           \n",
       "CLEC_10k  18.919348  38.351304  \n",
       "ILEC_10k   8.646566   9.947644  "
      ]
     },
     "metadata": {},
     "output_type": "display_data"
    },
    {
     "data": {
      "text/html": [
       "<div>\n",
       "<style scoped>\n",
       "    .dataframe tbody tr th:only-of-type {\n",
       "        vertical-align: middle;\n",
       "    }\n",
       "\n",
       "    .dataframe tbody tr th {\n",
       "        vertical-align: top;\n",
       "    }\n",
       "\n",
       "    .dataframe thead th {\n",
       "        text-align: right;\n",
       "    }\n",
       "</style>\n",
       "<table border=\"1\" class=\"dataframe\">\n",
       "  <thead>\n",
       "    <tr style=\"text-align: right;\">\n",
       "      <th></th>\n",
       "      <th>level_0</th>\n",
       "      <th>Group</th>\n",
       "      <th>Time</th>\n",
       "    </tr>\n",
       "  </thead>\n",
       "  <tbody>\n",
       "    <tr>\n",
       "      <th>0</th>\n",
       "      <td>1k</td>\n",
       "      <td>CLEC_1k</td>\n",
       "      <td>16.451304</td>\n",
       "    </tr>\n",
       "    <tr>\n",
       "      <th>1</th>\n",
       "      <td>1k</td>\n",
       "      <td>CLEC_1k</td>\n",
       "      <td>17.352174</td>\n",
       "    </tr>\n",
       "    <tr>\n",
       "      <th>2</th>\n",
       "      <td>1k</td>\n",
       "      <td>CLEC_1k</td>\n",
       "      <td>22.176087</td>\n",
       "    </tr>\n",
       "    <tr>\n",
       "      <th>3</th>\n",
       "      <td>1k</td>\n",
       "      <td>CLEC_1k</td>\n",
       "      <td>22.347826</td>\n",
       "    </tr>\n",
       "    <tr>\n",
       "      <th>4</th>\n",
       "      <td>1k</td>\n",
       "      <td>CLEC_1k</td>\n",
       "      <td>17.586522</td>\n",
       "    </tr>\n",
       "  </tbody>\n",
       "</table>\n",
       "</div>"
      ],
      "text/plain": [
       "  level_0    Group       Time\n",
       "0      1k  CLEC_1k  16.451304\n",
       "1      1k  CLEC_1k  17.352174\n",
       "2      1k  CLEC_1k  22.176087\n",
       "3      1k  CLEC_1k  22.347826\n",
       "4      1k  CLEC_1k  17.586522"
      ]
     },
     "execution_count": 24,
     "metadata": {},
     "output_type": "execute_result"
    }
   ],
   "source": [
    "#Generating bootstraps for 1k and 10k resamples\n",
    "bootstrap_ILEC_1k = bootstrap_statistic(ILEC,np.mean,1000)\n",
    "bootstrap_CLEC_1k = bootstrap_statistic(CLEC,np.mean,1000)\n",
    "bootstrap_ILEC_10k = bootstrap_statistic(ILEC,np.mean,10000)\n",
    "bootstrap_CLEC_10k = bootstrap_statistic(CLEC,np.mean,10000)\n",
    "\n",
    "#Combining into dataframes\n",
    "bootstrap_df_1k = pd.DataFrame({\"ILEC_1k\":bootstrap_ILEC_1k, \"CLEC_1k\":bootstrap_CLEC_1k}).melt(var_name = \"Group\", value_name = \"Time\")\n",
    "bootstrap_df_10k = pd.DataFrame({\"ILEC_10k\":bootstrap_ILEC_10k, \"CLEC_10k\":bootstrap_CLEC_10k}).melt(var_name = \"Group\", value_name = \"Time\")\n",
    "display(bootstrap_df_1k.groupby(\"Group\").describe())\n",
    "display(bootstrap_df_10k.groupby(\"Group\").describe())\n",
    "\n",
    "#Stacking the dataframes for the plot\n",
    "bootstrap_df = pd.concat([bootstrap_df_1k,bootstrap_df_10k], keys = ['1k','10k']).reset_index(level = 0, )\n",
    "bootstrap_df.rename(index=str, columns={\"level_0\": \"Size\"})\n",
    "bootstrap_df.head()"
   ]
  },
  {
   "cell_type": "markdown",
   "metadata": {},
   "source": [
    "#### Computing the bias of the ILEC set\n",
    " - Observed mean is 8.41 \n",
    " - Bootstrap mean is 8.41 or 8.40\n",
    "\n",
    "\n",
    "#### Bootstrap standard error is the standard deviation of the bootstrap distribution of the statistic\n",
    " - ILEC std = 0.36\n",
    " - CLEC std = 3.98"
   ]
  },
  {
   "cell_type": "markdown",
   "metadata": {},
   "source": [
    "#### Plotting the result\n",
    "Clearly, increasing the number of samples decreases the standard deviation"
   ]
  },
  {
   "cell_type": "code",
   "execution_count": 25,
   "metadata": {},
   "outputs": [
    {
     "data": {
      "image/png": "[encoded data removed]",
      "text/plain": [
       "<matplotlib.figure.Figure at 0x1c1825dbe0>"
      ]
     },
     "metadata": {},
     "output_type": "display_data"
    },
    {
     "data": {
      "text/plain": [
       "<ggplot: (7541425605)>"
      ]
     },
     "execution_count": 25,
     "metadata": {},
     "output_type": "execute_result"
    }
   ],
   "source": [
    "# Create histogram\n",
    "ggplot(bootstrap_df, aes(x = \"Time\" , fill = \"Group\")) \\\n",
    "+ geom_density(alpha = .3) +  ggtitle(\"Bootstrap Repair times distribution\")"
   ]
  },
  {
   "cell_type": "markdown",
   "metadata": {},
   "source": [
    "### Bootstrap the difference between means\n",
    "\n",
    "Given independent random samples of size n and m from two populations\n",
    "1. Draw a resample of size n with replacement from the first sample and a separate sample of size m from the second sample\n",
    "2. Compute a statistic that compares the two groups\n",
    "3. Repeat the resampling process\n",
    "4. Construct a bootstrap distribution of the statistic "
   ]
  },
  {
   "cell_type": "code",
   "execution_count": 26,
   "metadata": {},
   "outputs": [],
   "source": [
    "def bootstrap_two_populations(data1, data2,func, B = 1000):\n",
    "    '''Generate n bootstrap samples with replacement (for numpy array only) and calculate the test statistic for each.\n",
    "    Return a vector containing the test statistics'''\n",
    "    \n",
    "    statistics_vector = np.array([])\n",
    "    \n",
    "    for i in range(B):\n",
    "        bootstrap_sample1 = np.random.choice(data1, len(data1), replace = True)\n",
    "        bootstrap_sample2 = np.random.choice(data2, len(data2), replace = True)\n",
    "        statistics_vector = np.append(statistics_vector, func(bootstrap_sample1,bootstrap_sample2))\n",
    "    \n",
    "    return statistics_vector\n",
    "\n",
    "def diff_means(data1, data2):\n",
    "    return np.mean(data1) - np.mean(data2)"
   ]
  },
  {
   "cell_type": "code",
   "execution_count": 27,
   "metadata": {},
   "outputs": [
    {
     "data": {
      "text/html": [
       "<div>\n",
       "<style scoped>\n",
       "    .dataframe tbody tr th:only-of-type {\n",
       "        vertical-align: middle;\n",
       "    }\n",
       "\n",
       "    .dataframe tbody tr th {\n",
       "        vertical-align: top;\n",
       "    }\n",
       "\n",
       "    .dataframe thead tr th {\n",
       "        text-align: left;\n",
       "    }\n",
       "\n",
       "    .dataframe thead tr:last-of-type th {\n",
       "        text-align: right;\n",
       "    }\n",
       "</style>\n",
       "<table border=\"1\" class=\"dataframe\">\n",
       "  <thead>\n",
       "    <tr>\n",
       "      <th></th>\n",
       "      <th colspan=\"8\" halign=\"left\">value</th>\n",
       "    </tr>\n",
       "    <tr>\n",
       "      <th></th>\n",
       "      <th>count</th>\n",
       "      <th>mean</th>\n",
       "      <th>std</th>\n",
       "      <th>min</th>\n",
       "      <th>25%</th>\n",
       "      <th>50%</th>\n",
       "      <th>75%</th>\n",
       "      <th>max</th>\n",
       "    </tr>\n",
       "    <tr>\n",
       "      <th>variable</th>\n",
       "      <th></th>\n",
       "      <th></th>\n",
       "      <th></th>\n",
       "      <th></th>\n",
       "      <th></th>\n",
       "      <th></th>\n",
       "      <th></th>\n",
       "      <th></th>\n",
       "    </tr>\n",
       "  </thead>\n",
       "  <tbody>\n",
       "    <tr>\n",
       "      <th>Diff_10k</th>\n",
       "      <td>10000.0</td>\n",
       "      <td>-8.072718</td>\n",
       "      <td>4.009383</td>\n",
       "      <td>-28.363976</td>\n",
       "      <td>-10.515494</td>\n",
       "      <td>-7.602614</td>\n",
       "      <td>-5.125149</td>\n",
       "      <td>2.036966</td>\n",
       "    </tr>\n",
       "    <tr>\n",
       "      <th>Diff_1k</th>\n",
       "      <td>1000.0</td>\n",
       "      <td>-8.034026</td>\n",
       "      <td>3.975117</td>\n",
       "      <td>-24.452324</td>\n",
       "      <td>-10.184380</td>\n",
       "      <td>-7.662162</td>\n",
       "      <td>-5.220990</td>\n",
       "      <td>0.900954</td>\n",
       "    </tr>\n",
       "  </tbody>\n",
       "</table>\n",
       "</div>"
      ],
      "text/plain": [
       "            value                                                      \\\n",
       "            count      mean       std        min        25%       50%   \n",
       "variable                                                                \n",
       "Diff_10k  10000.0 -8.072718  4.009383 -28.363976 -10.515494 -7.602614   \n",
       "Diff_1k    1000.0 -8.034026  3.975117 -24.452324 -10.184380 -7.662162   \n",
       "\n",
       "                              \n",
       "               75%       max  \n",
       "variable                      \n",
       "Diff_10k -5.125149  2.036966  \n",
       "Diff_1k  -5.220990  0.900954  "
      ]
     },
     "execution_count": 27,
     "metadata": {},
     "output_type": "execute_result"
    }
   ],
   "source": [
    "bootstrap_diff_1k = pd.DataFrame({'Diff_1k':bootstrap_two_populations(ILEC,CLEC, diff_means,1000)})\n",
    "bootstrap_diff_10k = pd.DataFrame({'Diff_10k':bootstrap_two_populations(ILEC,CLEC, diff_means,10000)})\n",
    "bootstrap_diff = pd.concat([bootstrap_diff_1k,bootstrap_diff_10k], keys = ['1k','10k'], axis = 0).melt().dropna()\n",
    "#bootstrap_diff.rename(index=str, columns={\"level_0\": \"Size\"})\n",
    "bootstrap_diff.groupby('variable').describe()"
   ]
  },
  {
   "cell_type": "markdown",
   "metadata": {},
   "source": [
    "###  Difference between the means\n",
    " - Mean difference: - 8.09\n",
    " - Std deviation of the difference: 4\n",
    " - Shape: Not normal, left tail heavy, right tail light\n",
    " \n",
    "Since the distribution of the difference between means is not normal, we cannot safely use t-distribution to construct tests or confidence intervals"
   ]
  },
  {
   "cell_type": "code",
   "execution_count": 28,
   "metadata": {},
   "outputs": [
    {
     "data": {
      "image/png": "[encoded data removed]",
      "text/plain": [
       "<matplotlib.figure.Figure at 0x1c0e5b9f98>"
      ]
     },
     "metadata": {},
     "output_type": "display_data"
    },
    {
     "data": {
      "text/plain": [
       "<ggplot: (-9223372029313262297)>"
      ]
     },
     "execution_count": 28,
     "metadata": {},
     "output_type": "execute_result"
    }
   ],
   "source": [
    "# Create histogram\n",
    "ggplot(bootstrap_diff, aes(x = \"value\", fill = 'variable')) + geom_density(alpha = .3) +  ggtitle(\"Bootstrap difference between means distribution\")\n"
   ]
  },
  {
   "cell_type": "code",
   "execution_count": 29,
   "metadata": {},
   "outputs": [
    {
     "data": {
      "image/png": "[encoded data removed]",
      "text/plain": [
       "<matplotlib.figure.Figure at 0x1c0d4a8b38>"
      ]
     },
     "metadata": {},
     "output_type": "display_data"
    }
   ],
   "source": [
    "stats.probplot(bootstrap_diff[bootstrap_diff[\"variable\"]==\"Diff_10k\"].value, dist = \"norm\", plot = plt)\n",
    "plt.show()"
   ]
  },
  {
   "cell_type": "markdown",
   "metadata": {},
   "source": [
    "## Bootstrap linear regression "
   ]
  },
  {
   "cell_type": "code",
   "execution_count": 30,
   "metadata": {},
   "outputs": [
    {
     "data": {
      "text/html": [
       "<div>\n",
       "<style scoped>\n",
       "    .dataframe tbody tr th:only-of-type {\n",
       "        vertical-align: middle;\n",
       "    }\n",
       "\n",
       "    .dataframe tbody tr th {\n",
       "        vertical-align: top;\n",
       "    }\n",
       "\n",
       "    .dataframe thead th {\n",
       "        text-align: right;\n",
       "    }\n",
       "</style>\n",
       "<table border=\"1\" class=\"dataframe\">\n",
       "  <thead>\n",
       "    <tr style=\"text-align: right;\">\n",
       "      <th></th>\n",
       "      <th>ID</th>\n",
       "      <th>crim</th>\n",
       "      <th>zn</th>\n",
       "      <th>indus</th>\n",
       "      <th>chas</th>\n",
       "      <th>nox</th>\n",
       "      <th>rm</th>\n",
       "      <th>age</th>\n",
       "      <th>dis</th>\n",
       "      <th>rad</th>\n",
       "      <th>tax</th>\n",
       "      <th>ptratio</th>\n",
       "      <th>black</th>\n",
       "      <th>lstat</th>\n",
       "      <th>medv</th>\n",
       "    </tr>\n",
       "  </thead>\n",
       "  <tbody>\n",
       "    <tr>\n",
       "      <th>0</th>\n",
       "      <td>1</td>\n",
       "      <td>0.00632</td>\n",
       "      <td>18.0</td>\n",
       "      <td>2.31</td>\n",
       "      <td>0</td>\n",
       "      <td>0.538</td>\n",
       "      <td>6.575</td>\n",
       "      <td>65.2</td>\n",
       "      <td>4.0900</td>\n",
       "      <td>1</td>\n",
       "      <td>296</td>\n",
       "      <td>15.3</td>\n",
       "      <td>396.90</td>\n",
       "      <td>4.98</td>\n",
       "      <td>24.0</td>\n",
       "    </tr>\n",
       "    <tr>\n",
       "      <th>1</th>\n",
       "      <td>2</td>\n",
       "      <td>0.02731</td>\n",
       "      <td>0.0</td>\n",
       "      <td>7.07</td>\n",
       "      <td>0</td>\n",
       "      <td>0.469</td>\n",
       "      <td>6.421</td>\n",
       "      <td>78.9</td>\n",
       "      <td>4.9671</td>\n",
       "      <td>2</td>\n",
       "      <td>242</td>\n",
       "      <td>17.8</td>\n",
       "      <td>396.90</td>\n",
       "      <td>9.14</td>\n",
       "      <td>21.6</td>\n",
       "    </tr>\n",
       "    <tr>\n",
       "      <th>2</th>\n",
       "      <td>4</td>\n",
       "      <td>0.03237</td>\n",
       "      <td>0.0</td>\n",
       "      <td>2.18</td>\n",
       "      <td>0</td>\n",
       "      <td>0.458</td>\n",
       "      <td>6.998</td>\n",
       "      <td>45.8</td>\n",
       "      <td>6.0622</td>\n",
       "      <td>3</td>\n",
       "      <td>222</td>\n",
       "      <td>18.7</td>\n",
       "      <td>394.63</td>\n",
       "      <td>2.94</td>\n",
       "      <td>33.4</td>\n",
       "    </tr>\n",
       "    <tr>\n",
       "      <th>3</th>\n",
       "      <td>5</td>\n",
       "      <td>0.06905</td>\n",
       "      <td>0.0</td>\n",
       "      <td>2.18</td>\n",
       "      <td>0</td>\n",
       "      <td>0.458</td>\n",
       "      <td>7.147</td>\n",
       "      <td>54.2</td>\n",
       "      <td>6.0622</td>\n",
       "      <td>3</td>\n",
       "      <td>222</td>\n",
       "      <td>18.7</td>\n",
       "      <td>396.90</td>\n",
       "      <td>5.33</td>\n",
       "      <td>36.2</td>\n",
       "    </tr>\n",
       "    <tr>\n",
       "      <th>4</th>\n",
       "      <td>7</td>\n",
       "      <td>0.08829</td>\n",
       "      <td>12.5</td>\n",
       "      <td>7.87</td>\n",
       "      <td>0</td>\n",
       "      <td>0.524</td>\n",
       "      <td>6.012</td>\n",
       "      <td>66.6</td>\n",
       "      <td>5.5605</td>\n",
       "      <td>5</td>\n",
       "      <td>311</td>\n",
       "      <td>15.2</td>\n",
       "      <td>395.60</td>\n",
       "      <td>12.43</td>\n",
       "      <td>22.9</td>\n",
       "    </tr>\n",
       "  </tbody>\n",
       "</table>\n",
       "</div>"
      ],
      "text/plain": [
       "   ID     crim    zn  indus  chas    nox     rm   age     dis  rad  tax  \\\n",
       "0   1  0.00632  18.0   2.31     0  0.538  6.575  65.2  4.0900    1  296   \n",
       "1   2  0.02731   0.0   7.07     0  0.469  6.421  78.9  4.9671    2  242   \n",
       "2   4  0.03237   0.0   2.18     0  0.458  6.998  45.8  6.0622    3  222   \n",
       "3   5  0.06905   0.0   2.18     0  0.458  7.147  54.2  6.0622    3  222   \n",
       "4   7  0.08829  12.5   7.87     0  0.524  6.012  66.6  5.5605    5  311   \n",
       "\n",
       "   ptratio   black  lstat  medv  \n",
       "0     15.3  396.90   4.98  24.0  \n",
       "1     17.8  396.90   9.14  21.6  \n",
       "2     18.7  394.63   2.94  33.4  \n",
       "3     18.7  396.90   5.33  36.2  \n",
       "4     15.2  395.60  12.43  22.9  "
      ]
     },
     "execution_count": 30,
     "metadata": {},
     "output_type": "execute_result"
    }
   ],
   "source": [
    "from sklearn import datasets\n",
    "boston = pd.read_csv(\"boston_housing_train.csv\")\n",
    "boston.head()"
   ]
  },
  {
   "cell_type": "markdown",
   "metadata": {},
   "source": [
    "### Finding the highest correlated variable \n",
    "Target variable is medv and we will use rm = rooms"
   ]
  },
  {
   "cell_type": "code",
   "execution_count": 31,
   "metadata": {},
   "outputs": [
    {
     "data": {
      "text/plain": [
       "<matplotlib.axes._subplots.AxesSubplot at 0x1c180d89e8>"
      ]
     },
     "execution_count": 31,
     "metadata": {},
     "output_type": "execute_result"
    },
    {
     "data": {
      "image/png": "[encoded data removed]",
      "text/plain": [
       "<matplotlib.figure.Figure at 0x1c0efb1048>"
      ]
     },
     "metadata": {},
     "output_type": "display_data"
    }
   ],
   "source": [
    "f, ax = plt.subplots(figsize=(12, 12))\n",
    "corr = boston.corr()\n",
    "sns.heatmap(corr, mask=np.zeros_like(corr, dtype=np.bool), cmap=sns.diverging_palette(220, 10, as_cmap=True),\n",
    "            square=True, ax=ax)"
   ]
  },
  {
   "cell_type": "markdown",
   "metadata": {},
   "source": [
    "### Computing bootstrap confidence intervals directly using Numpy"
   ]
  },
  {
   "cell_type": "code",
   "execution_count": 32,
   "metadata": {},
   "outputs": [],
   "source": [
    "def linear_fit(x_data,y_data):\n",
    "    a,b = np.polyfit(x = x_data, y = y_data, deg =1)\n",
    "\n",
    "    #Make theoretical line to plot\n",
    "    x_line = np.array([np.min(x_data),np.max(x_data)])\n",
    "    y_line = a*x_line + b\n",
    "    \n",
    "    #Add regression plot\n",
    "    plt.plot(x_line,y_line, alpha = 0.01, color = 'red', linewidth = .5)\n",
    "\n",
    "def bootstrap_linear_fit(x_data, y_data, B = 1000):\n",
    "    #Plot the original data\n",
    "    plt.plot(x_data, y_data, marker='.', linestyle='none')\n",
    "\n",
    "    #Setup array of indices to sample from\n",
    "    inds = np.arange(len(x_data))\n",
    "    \n",
    "    for i in range(B):\n",
    "        bs_inds = np.random.choice(inds, len(inds), replace = True)\n",
    "        bs_x, bs_y = x_data[bs_inds], y_data[bs_inds] \n",
    "        linear_fit(bs_x, bs_y)\n",
    "    "
   ]
  },
  {
   "cell_type": "code",
   "execution_count": 33,
   "metadata": {},
   "outputs": [
    {
     "data": {
      "image/png": "[encoded data removed]",
      "text/plain": [
       "<matplotlib.figure.Figure at 0x1c0e650198>"
      ]
     },
     "metadata": {},
     "output_type": "display_data"
    }
   ],
   "source": [
    "plt.figure(figsize = (8,8))\n",
    "bootstrap_linear_fit(boston.rm, boston.medv)"
   ]
  },
  {
   "cell_type": "markdown",
   "metadata": {},
   "source": [
    "### Scatter and bootstrap confidence interval done directly by Seaborn (95%)"
   ]
  },
  {
   "cell_type": "code",
   "execution_count": 34,
   "metadata": {},
   "outputs": [
    {
     "data": {
      "image/png": "[encoded data removed]",
      "text/plain": [
       "<matplotlib.figure.Figure at 0x1c0e9e3518>"
      ]
     },
     "metadata": {},
     "output_type": "display_data"
    }
   ],
   "source": [
    "fig, (ax1, ax2) = plt.subplots(1,2, figsize = (16,6))\n",
    "ax1 = sns.regplot(x = \"rm\", y = \"medv\", data = boston, ax = ax1)\n",
    "ax2 = sns.regplot(x = \"rm\", y = \"medv\", data = boston, ax = ax2)"
   ]
  },
  {
   "cell_type": "markdown",
   "metadata": {},
   "source": [
    "## Bootstrapping the correlation coefficient\n",
    "### MLB example"
   ]
  },
  {
   "cell_type": "code",
   "execution_count": 35,
   "metadata": {},
   "outputs": [
    {
     "data": {
      "text/html": [
       "<div>\n",
       "<style scoped>\n",
       "    .dataframe tbody tr th:only-of-type {\n",
       "        vertical-align: middle;\n",
       "    }\n",
       "\n",
       "    .dataframe tbody tr th {\n",
       "        vertical-align: top;\n",
       "    }\n",
       "\n",
       "    .dataframe thead th {\n",
       "        text-align: right;\n",
       "    }\n",
       "</style>\n",
       "<table border=\"1\" class=\"dataframe\">\n",
       "  <thead>\n",
       "    <tr style=\"text-align: right;\">\n",
       "      <th></th>\n",
       "      <th>Name</th>\n",
       "      <th>Salary</th>\n",
       "      <th>Average</th>\n",
       "    </tr>\n",
       "  </thead>\n",
       "  <tbody>\n",
       "    <tr>\n",
       "      <th>0</th>\n",
       "      <td>Matt Williams</td>\n",
       "      <td>9500000</td>\n",
       "      <td>0.269</td>\n",
       "    </tr>\n",
       "    <tr>\n",
       "      <th>1</th>\n",
       "      <td>Jim Thome</td>\n",
       "      <td>8000000</td>\n",
       "      <td>0.282</td>\n",
       "    </tr>\n",
       "    <tr>\n",
       "      <th>2</th>\n",
       "      <td>Jim Edmonds</td>\n",
       "      <td>7333333</td>\n",
       "      <td>0.327</td>\n",
       "    </tr>\n",
       "    <tr>\n",
       "      <th>3</th>\n",
       "      <td>Fred McGriff</td>\n",
       "      <td>7250000</td>\n",
       "      <td>0.259</td>\n",
       "    </tr>\n",
       "    <tr>\n",
       "      <th>4</th>\n",
       "      <td>Jermaine Dye</td>\n",
       "      <td>7166667</td>\n",
       "      <td>0.240</td>\n",
       "    </tr>\n",
       "  </tbody>\n",
       "</table>\n",
       "</div>"
      ],
      "text/plain": [
       "            Name   Salary  Average\n",
       "0  Matt Williams  9500000    0.269\n",
       "1      Jim Thome  8000000    0.282\n",
       "2    Jim Edmonds  7333333    0.327\n",
       "3   Fred McGriff  7250000    0.259\n",
       "4   Jermaine Dye  7166667    0.240"
      ]
     },
     "metadata": {},
     "output_type": "display_data"
    },
    {
     "name": "stdout",
     "output_type": "stream",
     "text": [
      "The correlation coefficient is =  0.10675750581399636\n"
     ]
    },
    {
     "data": {
      "image/png": "[encoded data removed]",
      "text/plain": [
       "<matplotlib.figure.Figure at 0x1c0ed55c18>"
      ]
     },
     "metadata": {},
     "output_type": "display_data"
    },
    {
     "data": {
      "text/plain": [
       "<ggplot: (-9223372029313498431)>"
      ]
     },
     "execution_count": 35,
     "metadata": {},
     "output_type": "execute_result"
    }
   ],
   "source": [
    "MLB = pd.read_csv(\"MLB.csv\")\n",
    "display(MLB.head())\n",
    "print(\"The correlation coefficient is = \", np.corrcoef(MLB.Average, MLB.Salary)[0,1] )\n",
    "ggplot(MLB, aes(x = \"Average\", y=\"Salary\")) + geom_point()+ geom_smooth(method=\"lm\")\n"
   ]
  },
  {
   "cell_type": "code",
   "execution_count": 37,
   "metadata": {},
   "outputs": [],
   "source": [
    "def bootstrap_corr_coef(x_data, y_data, B = 2000):\n",
    "    #Initialize empty array\n",
    "    coef_array = np.array([])\n",
    "    \n",
    "    #Setup array of indices to sample from\n",
    "    inds = np.arange(len(x_data))\n",
    "    \n",
    "    #Loop B times to generate B bootstrap statistics\n",
    "    for i in range(B):\n",
    "        bs_inds = np.random.choice(inds, len(inds), replace = True)\n",
    "        bs_x, bs_y = x_data[bs_inds], y_data[bs_inds] \n",
    "        coef_array = np.append(coef_array, np.corrcoef(bs_x, bs_y)[0,1])\n",
    "\n",
    "    return coef_array\n"
   ]
  },
  {
   "cell_type": "code",
   "execution_count": 46,
   "metadata": {},
   "outputs": [
    {
     "data": {
      "text/plain": [
       "DescribeResult(nobs=2000, minmax=(-0.3424544631506492, 0.5147232720208114), mean=0.10582977565187415, variance=0.016759921772142958, skewness=0.059428056649360364, kurtosis=-0.053204486422349095)"
      ]
     },
     "metadata": {},
     "output_type": "display_data"
    },
    {
     "data": {
      "image/png": "[encoded data removed]",
      "text/plain": [
       "<matplotlib.figure.Figure at 0x1c17ec8a58>"
      ]
     },
     "metadata": {},
     "output_type": "display_data"
    }
   ],
   "source": [
    "#Running the bootstrap on the correlation coefficient\n",
    "bs_corr_coef = bootstrap_corr_coef(MLB.Average, MLB.Salary)\n",
    "\n",
    "# Summary statistics\n",
    "display(stats.describe(bs_corr_coef))\n",
    "\n",
    "#Normalizing the bootstrap distribution\n",
    "norm_bs_corr_coef = stats.mstats.zscore(bs_corr_coef)\n",
    "\n",
    "#Displaying the distribution and QQ plot\n",
    "fig, (ax1, ax2) = plt.subplots(1,2, figsize = (16,6))\n",
    "ax1 = sns.distplot(bs_corr_coef, ax = ax1)\n",
    "ax2 = stats.probplot(bs_corr_coef, dist = \"norm\", plot = plt)\n",
    "\n"
   ]
  },
  {
   "cell_type": "markdown",
   "metadata": {},
   "source": [
    "## Testing for departure from normality\n",
    "Recall that all of the following hypothesis test work such that the **null hypothesis tests against the the assumption of normality**"
   ]
  },
  {
   "cell_type": "code",
   "execution_count": 43,
   "metadata": {},
   "outputs": [
    {
     "name": "stdout",
     "output_type": "stream",
     "text": [
      "Sample size =  2000\n",
      "Shapiro Wilk test: p_value =  0.4019588232040405\n",
      "Kolmogorov-Smirnov test: p_value =  0.37993284709038055\n",
      "Anderson-Darling test: p_value =  0.785\n",
      "D’Agostino and Pearson test: p_value =  0.567525875863175\n"
     ]
    }
   ],
   "source": [
    "\n",
    "#Testing the normality of the resulting bootstrap distribution\n",
    "print(\"Sample size = \", norm_bs_corr_coef.size)\n",
    "\n",
    "#Shapiro-Wilk\n",
    "print(\"Shapiro Wilk test: p_value = \", stats.shapiro(norm_bs_corr_coef)[1])\n",
    "\n",
    "#Kolmogorov-Smirnov\n",
    "print(\"Kolmogorov-Smirnov test: p_value = \", stats.kstest(norm_bs_corr_coef, cdf = 'norm')[1])\n",
    "\n",
    "#Anderson-Darling\n",
    "print(\"Anderson-Darling test: p_value = \", stats.anderson(norm_bs_corr_coef)[1][2])\n",
    "\n",
    "#D’Agostino and Pearson\n",
    "print(\"D’Agostino and Pearson test: p_value = \", stats.normaltest(norm_bs_corr_coef)[1])"
   ]
  },
  {
   "cell_type": "markdown",
   "metadata": {},
   "source": [
    "### An example of NOT normally distributed data "
   ]
  },
  {
   "cell_type": "code",
   "execution_count": 44,
   "metadata": {},
   "outputs": [
    {
     "name": "stdout",
     "output_type": "stream",
     "text": [
      "Sample size =  221\n",
      "Shapiro Wilk test: p_value =  0.00026834625168703496\n",
      "Kolmogorov-Smirnov test: p_value =  0.0\n",
      "Anderson-Darling test: p_value =  0.773\n",
      "D’Agostino and Pearson test: p_value =  9.715895307086723e-05\n"
     ]
    },
    {
     "data": {
      "image/png": "[encoded data removed]",
      "text/plain": [
       "<matplotlib.figure.Figure at 0x1c18aa5358>"
      ]
     },
     "metadata": {},
     "output_type": "display_data"
    }
   ],
   "source": [
    "data = pd.read_csv('https://raw.githubusercontent.com/plotly/datasets/master/wind_speed_laurel_nebraska.csv')\n",
    "wind = data['10 Min Sampled Avg']\n",
    "sns.distplot(wind)\n",
    "\n",
    "#Testing the normality of the resulting bootstrap distribution\n",
    "print(\"Sample size = \", wind.size)\n",
    "\n",
    "#Shapiro-Wilk\n",
    "print(\"Shapiro Wilk test: p_value = \", stats.shapiro(wind)[1])\n",
    "\n",
    "#Kolmogorov-Smirnov\n",
    "print(\"Kolmogorov-Smirnov test: p_value = \", stats.kstest(wind, cdf = 'norm')[1])\n",
    "\n",
    "#Anderson-Darling\n",
    "print(\"Anderson-Darling test: p_value = \", stats.anderson(wind)[1][2])\n",
    "\n",
    "#D’Agostino and Pearson\n",
    "print(\"D’Agostino and Pearson test: p_value = \", stats.normaltest(wind)[1])"
   ]
  },
  {
   "cell_type": "markdown",
   "metadata": {},
   "source": [
    "### Computing the bootstrap t interval\n",
    "\n",
    "Checking assumptions:\n",
    "- The bootstrap distribution has normal shape\n",
    "- Mean = 0.102 \n",
    "- standard error = 0.129"
   ]
  },
  {
   "cell_type": "code",
   "execution_count": 83,
   "metadata": {},
   "outputs": [
    {
     "name": "stdout",
     "output_type": "stream",
     "text": [
      "Standard error =  0.12946011653070205\n",
      "t values interval = (-2.009575234489209, 2.009575234489209)\n",
      "bootstrap t interval using standard error = [-0.15433007  0.36598962]\n",
      "bootstrap percentile interval = (-0.14766880227405357, 0.3574247091000503)\n"
     ]
    },
    {
     "data": {
      "text/plain": [
       "<matplotlib.lines.Line2D at 0x1c0e5b9518>"
      ]
     },
     "execution_count": 83,
     "metadata": {},
     "output_type": "execute_result"
    },
    {
     "data": {
      "image/png": "[encoded data removed]",
      "text/plain": [
       "<matplotlib.figure.Figure at 0x1c0e247278>"
      ]
     },
     "metadata": {},
     "output_type": "display_data"
    }
   ],
   "source": [
    "#Bootstrap standard error\n",
    "print(\"Standard error = \", np.std(bs_corr_coef, ddof=1))\n",
    "\n",
    "#Obtaining the t value for 50 - 1 degrees of freedom and 97.5th percentile: \n",
    "print(\"t values interval =\",stats.t.interval(0.95, df = 49))\n",
    "\n",
    "#Calculating the t interval using the bootstrap standard error \n",
    "bs_t_interval = np.mean(bs_corr_coef) + (np.array(stats.t.interval(0.95, df = 49)) * np.std(bs_corr_coef, ddof=1))\n",
    "print(\"bootstrap t interval using standard error =\",bs_t_interval)\n",
    "\n",
    "#Calculating the t interval using the percentile interval\n",
    "bs_perc_interval = np.percentile(bs_corr_coef, 2.5), np.percentile(bs_corr_coef, 97.5)\n",
    "print(\"bootstrap percentile interval =\",bs_perc_interval )\n",
    "\n",
    "f, ax = plt.subplots(figsize=(10, 6))\n",
    "ax = sns.distplot(bs_corr_coef)\n",
    "\n",
    "#Vertical lines\n",
    "plt.axvline(bs_perc_interval[0], color='r')\n",
    "plt.axvline(bs_perc_interval[1], color='r')\n",
    "plt.axvline(bs_t_interval[0], color='c')\n",
    "plt.axvline(bs_t_interval[1], color='c')"
   ]
  },
  {
   "cell_type": "markdown",
   "metadata": {},
   "source": [
    "# Significance testing using permutation tests\n",
    "### Verizon data set: \n",
    "Penalties are assessed if a significance test concludes at the 1% significance level that CLEC customers are receiving inferior service. A one sided test is used. \n",
    "\n",
    "Because the distributions are strongly skewed and the sample size very different we cannot use two sample t tests.\n",
    "\n",
    " - ILEC: size = 1664\n",
    " - CLEC: size = 23\n",
    " - Mean ILEC = 8.411\n",
    " - Mean CLEC = 16.509\n",
    " - Mean difference = - 8.097519"
   ]
  },
  {
   "cell_type": "code",
   "execution_count": 158,
   "metadata": {},
   "outputs": [],
   "source": [
    "def permutation_sample(data1,data2):\n",
    "    '''Generate a permutation sample from two data sets'''\n",
    "\n",
    "    # Concatenate the data\n",
    "    data = np.concatenate((data1,data2))\n",
    "    permutated_data = np.random.permutation(data)\n",
    "    \n",
    "    #Select new samples without replacements\n",
    "    perm_sample1 = permutated_data[:len(data1)]\n",
    "    perm_sample2 = permutated_data[len(data1):]\n",
    "\n",
    "    return perm_sample1, perm_sample2\n",
    "\n",
    "def draw_perm_reps(data_1, data_2, func, n=100):\n",
    "    '''Generate multiple permutation replicates. \n",
    "    Here func is a function that takes two arrays as arguments'''\n",
    "    \n",
    "    perm_array = np.array([])\n",
    "    \n",
    "    for i in range(n):\n",
    "        perm_sample_1, perm_sample_2 = permutation_sample(data_1, data_2)\n",
    "        perm_array = np.append(perm_array, func(perm_sample_1,perm_sample_2))\n",
    "\n",
    "    return perm_array  "
   ]
  },
  {
   "cell_type": "code",
   "execution_count": 149,
   "metadata": {},
   "outputs": [],
   "source": [
    "perm_mean = draw_perm_reps(ILEC,CLEC,diff_means,100000)"
   ]
  },
  {
   "cell_type": "code",
   "execution_count": 165,
   "metadata": {},
   "outputs": [
    {
     "name": "stdout",
     "output_type": "stream",
     "text": [
      "the P value is:  0.01864\n"
     ]
    },
    {
     "data": {
      "text/plain": [
       "<matplotlib.lines.Line2D at 0x1c1b3f6978>"
      ]
     },
     "execution_count": 165,
     "metadata": {},
     "output_type": "execute_result"
    },
    {
     "data": {
      "image/png": "[encoded data removed]",
      "text/plain": [
       "<matplotlib.figure.Figure at 0x1c1b3f6ac8>"
      ]
     },
     "metadata": {},
     "output_type": "display_data"
    }
   ],
   "source": [
    "stats.describe(perm_mean)\n",
    "T = np.mean(ILEC) - np.mean(CLEC)\n",
    "P = (perm_mean < T).sum() / perm_mean.size\n",
    "print(\"the P value is: \",P)\n",
    "\n",
    "# Plotting the distribution and p value\n",
    "f, ax = plt.subplots(figsize=(10, 6))\n",
    "ax = sns.distplot(perm_mean)\n",
    "\n",
    "plt.annotate(\n",
    "# Label and coordinate\n",
    "'T = -8.09', xy=(T, .01), xytext=(-10, 0.03),\n",
    " \n",
    "# Custom arrow\n",
    "arrowprops=dict(facecolor='black')\n",
    ")\n",
    "\n",
    "plt.axvline(T, color='c')\n",
    "\n"
   ]
  },
  {
   "cell_type": "markdown",
   "metadata": {},
   "source": [
    "### Calculating the p value corresponding to a difference of -8.0975 "
   ]
  },
  {
   "cell_type": "code",
   "execution_count": 169,
   "metadata": {},
   "outputs": [
    {
     "data": {
      "text/plain": [
       "-8.095822419899667"
      ]
     },
     "execution_count": 169,
     "metadata": {},
     "output_type": "execute_result"
    }
   ],
   "source": [
    "np.percentile(perm_mean,1.864)"
   ]
  },
  {
   "cell_type": "code",
   "execution_count": 143,
   "metadata": {},
   "outputs": [
    {
     "data": {
      "text/plain": [
       "0.01822"
      ]
     },
     "execution_count": 143,
     "metadata": {},
     "output_type": "execute_result"
    }
   ],
   "source": []
  },
  {
   "cell_type": "code",
   "execution_count": 141,
   "metadata": {},
   "outputs": [
    {
     "data": {
      "text/plain": [
       "1822"
      ]
     },
     "execution_count": 141,
     "metadata": {},
     "output_type": "execute_result"
    }
   ],
   "source": [
    "more_extreme_vals.sum()"
   ]
  },
  {
   "cell_type": "code",
   "execution_count": 139,
   "metadata": {},
   "outputs": [
    {
     "data": {
      "text/plain": [
       "array([False, False, False, ..., False, False, False])"
      ]
     },
     "execution_count": 139,
     "metadata": {},
     "output_type": "execute_result"
    }
   ],
   "source": [
    "perm_mean < T"
   ]
  },
  {
   "cell_type": "code",
   "execution_count": 171,
   "metadata": {},
   "outputs": [
    {
     "data": {
      "text/html": [
       "<div>\n",
       "<style scoped>\n",
       "    .dataframe tbody tr th:only-of-type {\n",
       "        vertical-align: middle;\n",
       "    }\n",
       "\n",
       "    .dataframe tbody tr th {\n",
       "        vertical-align: top;\n",
       "    }\n",
       "\n",
       "    .dataframe thead th {\n",
       "        text-align: right;\n",
       "    }\n",
       "</style>\n",
       "<table border=\"1\" class=\"dataframe\">\n",
       "  <thead>\n",
       "    <tr style=\"text-align: right;\">\n",
       "      <th></th>\n",
       "      <th>A</th>\n",
       "      <th>B</th>\n",
       "      <th>count</th>\n",
       "    </tr>\n",
       "  </thead>\n",
       "  <tbody>\n",
       "    <tr>\n",
       "      <th>0</th>\n",
       "      <td>a1</td>\n",
       "      <td>b1</td>\n",
       "      <td>1</td>\n",
       "    </tr>\n",
       "    <tr>\n",
       "      <th>1</th>\n",
       "      <td>a1</td>\n",
       "      <td>b1</td>\n",
       "      <td>1</td>\n",
       "    </tr>\n",
       "    <tr>\n",
       "      <th>2</th>\n",
       "      <td>a1</td>\n",
       "      <td>b1</td>\n",
       "      <td>1</td>\n",
       "    </tr>\n",
       "    <tr>\n",
       "      <th>3</th>\n",
       "      <td>a1</td>\n",
       "      <td>b1</td>\n",
       "      <td>1</td>\n",
       "    </tr>\n",
       "    <tr>\n",
       "      <th>4</th>\n",
       "      <td>a1</td>\n",
       "      <td>b1</td>\n",
       "      <td>1</td>\n",
       "    </tr>\n",
       "  </tbody>\n",
       "</table>\n",
       "</div>"
      ],
      "text/plain": [
       "    A   B  count\n",
       "0  a1  b1      1\n",
       "1  a1  b1      1\n",
       "2  a1  b1      1\n",
       "3  a1  b1      1\n",
       "4  a1  b1      1"
      ]
     },
     "metadata": {},
     "output_type": "display_data"
    },
    {
     "data": {
      "text/html": [
       "<div>\n",
       "<style scoped>\n",
       "    .dataframe tbody tr th:only-of-type {\n",
       "        vertical-align: middle;\n",
       "    }\n",
       "\n",
       "    .dataframe tbody tr th {\n",
       "        vertical-align: top;\n",
       "    }\n",
       "\n",
       "    .dataframe thead th {\n",
       "        text-align: right;\n",
       "    }\n",
       "</style>\n",
       "<table border=\"1\" class=\"dataframe\">\n",
       "  <thead>\n",
       "    <tr style=\"text-align: right;\">\n",
       "      <th></th>\n",
       "      <th>A</th>\n",
       "      <th>B</th>\n",
       "      <th>count</th>\n",
       "    </tr>\n",
       "  </thead>\n",
       "  <tbody>\n",
       "    <tr>\n",
       "      <th>0</th>\n",
       "      <td>a2</td>\n",
       "      <td>b2</td>\n",
       "      <td>1</td>\n",
       "    </tr>\n",
       "    <tr>\n",
       "      <th>1</th>\n",
       "      <td>a2</td>\n",
       "      <td>b2</td>\n",
       "      <td>1</td>\n",
       "    </tr>\n",
       "  </tbody>\n",
       "</table>\n",
       "</div>"
      ],
      "text/plain": [
       "    A   B  count\n",
       "0  a2  b2      1\n",
       "1  a2  b2      1"
      ]
     },
     "metadata": {},
     "output_type": "display_data"
    }
   ],
   "source": [
    "raw_data1 = {'A': ['a1', 'a1', 'a1', 'a1', 'a1'], \n",
    "        'B': ['b1', 'b1', 'b1', 'b1', 'b1']}\n",
    "df1 = pd.DataFrame(raw_data1, columns = ['A', 'B'])\n",
    "df1['count']=1\n",
    "display(df1)\n",
    "\n",
    "raw_data2 = {'A': ['a2', 'a2'], \n",
    "        'B': ['b2', 'b2']}\n",
    "df2 = pd.DataFrame(raw_data2, columns = ['A', 'B'])\n",
    "df2['count']=1\n",
    "display(df2)"
   ]
  },
  {
   "cell_type": "code",
   "execution_count": null,
   "metadata": {},
   "outputs": [],
   "source": []
  },
  {
   "cell_type": "code",
   "execution_count": 174,
   "metadata": {},
   "outputs": [
    {
     "data": {
      "text/html": [
       "<div>\n",
       "<style scoped>\n",
       "    .dataframe tbody tr th:only-of-type {\n",
       "        vertical-align: middle;\n",
       "    }\n",
       "\n",
       "    .dataframe tbody tr th {\n",
       "        vertical-align: top;\n",
       "    }\n",
       "\n",
       "    .dataframe thead th {\n",
       "        text-align: right;\n",
       "    }\n",
       "</style>\n",
       "<table border=\"1\" class=\"dataframe\">\n",
       "  <thead>\n",
       "    <tr style=\"text-align: right;\">\n",
       "      <th></th>\n",
       "      <th></th>\n",
       "      <th>A</th>\n",
       "      <th>B</th>\n",
       "      <th>count</th>\n",
       "    </tr>\n",
       "    <tr>\n",
       "      <th>Xavier</th>\n",
       "      <th></th>\n",
       "      <th></th>\n",
       "      <th></th>\n",
       "      <th></th>\n",
       "    </tr>\n",
       "  </thead>\n",
       "  <tbody>\n",
       "    <tr>\n",
       "      <th rowspan=\"5\" valign=\"top\">one</th>\n",
       "      <th>0</th>\n",
       "      <td>a1</td>\n",
       "      <td>b1</td>\n",
       "      <td>1</td>\n",
       "    </tr>\n",
       "    <tr>\n",
       "      <th>1</th>\n",
       "      <td>a1</td>\n",
       "      <td>b1</td>\n",
       "      <td>1</td>\n",
       "    </tr>\n",
       "    <tr>\n",
       "      <th>2</th>\n",
       "      <td>a1</td>\n",
       "      <td>b1</td>\n",
       "      <td>1</td>\n",
       "    </tr>\n",
       "    <tr>\n",
       "      <th>3</th>\n",
       "      <td>a1</td>\n",
       "      <td>b1</td>\n",
       "      <td>1</td>\n",
       "    </tr>\n",
       "    <tr>\n",
       "      <th>4</th>\n",
       "      <td>a1</td>\n",
       "      <td>b1</td>\n",
       "      <td>1</td>\n",
       "    </tr>\n",
       "    <tr>\n",
       "      <th rowspan=\"2\" valign=\"top\">two</th>\n",
       "      <th>0</th>\n",
       "      <td>a2</td>\n",
       "      <td>b2</td>\n",
       "      <td>1</td>\n",
       "    </tr>\n",
       "    <tr>\n",
       "      <th>1</th>\n",
       "      <td>a2</td>\n",
       "      <td>b2</td>\n",
       "      <td>1</td>\n",
       "    </tr>\n",
       "  </tbody>\n",
       "</table>\n",
       "</div>"
      ],
      "text/plain": [
       "           A   B  count\n",
       "Xavier                 \n",
       "one    0  a1  b1      1\n",
       "       1  a1  b1      1\n",
       "       2  a1  b1      1\n",
       "       3  a1  b1      1\n",
       "       4  a1  b1      1\n",
       "two    0  a2  b2      1\n",
       "       1  a2  b2      1"
      ]
     },
     "execution_count": 174,
     "metadata": {},
     "output_type": "execute_result"
    }
   ],
   "source": [
    "c = pd.concat([df1,df2], keys = ['one','two'], names = ['Xavier'])\n",
    "c"
   ]
  },
  {
   "cell_type": "code",
   "execution_count": null,
   "metadata": {},
   "outputs": [],
   "source": [
    "c.index.set_names(level = 0, names = 'size')"
   ]
  },
  {
   "cell_type": "code",
   "execution_count": null,
   "metadata": {},
   "outputs": [],
   "source": [
    "d = pd.concat([df1,df2], keys = ['1k','10k']).reset_index(level = 0, )\n",
    "d.rename(index=str, columns={\"level_0\": \"Size\"})"
   ]
  },
  {
   "cell_type": "code",
   "execution_count": null,
   "metadata": {},
   "outputs": [],
   "source": []
  }
 ],
 "metadata": {
  "kernelspec": {
   "display_name": "Python 3",
   "language": "python",
   "name": "python3"
  },
  "language_info": {
   "codemirror_mode": {
    "name": "ipython",
    "version": 3
   },
   "file_extension": ".py",
   "mimetype": "text/x-python",
   "name": "python",
   "nbconvert_exporter": "python",
   "pygments_lexer": "ipython3",
   "version": "3.6.4"
  }
 },
 "nbformat": 4,
 "nbformat_minor": 2
}
